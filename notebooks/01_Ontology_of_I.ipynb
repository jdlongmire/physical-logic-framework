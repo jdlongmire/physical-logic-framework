{
 "cells": [
  {
   "cell_type": "markdown",
   "metadata": {},
   "source": [
    "# LFT: Ontology of the Information Space $I$\n",
    "\n",
    "**Position in sequence:** foundational pre‑theory (inserted after `00a_Foundations`).\n",
    "\n",
    "## Goal\n",
    "Give a **minimal, formal ontology** for the pre‑geometric information space $I$ in\n",
    "$$A = L(I),$$\n",
    "compatible with LFT’s derivations. We model $I$ as the **space of potential distinctions** encoded as **partial orders** on a countable carrier set. The logical operator $L$ (Identity, Non‑Contradiction, Excluded Middle) acts as a **filter** that (i) rejects contradictions, (ii) closes under identity/reflexive consistency, and (iii) completes feasible structures to **total orders** (actualities)."
   ]
  },
  {
   "cell_type": "markdown",
   "metadata": {},
   "source": [
    "## 1) Working Ontology for $I$\n",
    "\n",
    "**Carrier (labels):** a finite subset $X=\\{1,\\dots,N\\}$ of a countable set.  \n",
    "**Raw structure:** a directed graph $G=(X,E)$ encoding *proposed distinctions* ($i\\prec j$ meaning “$i$ distinguished before $j$”).  \n",
    "**$I$ as a space:** all finite digraphs on $X$ with edges interpreted as *candidate order relations* (not yet assumed acyclic/transitive).  \n",
    "\n",
    "Logical filtering $L$ acts to produce **feasible posets** and (if possible) **total orders**:\n",
    "- **ID:** ensure reflexive self‑consistency (we treat identity as implicit; graphs omit self‑loops).  \n",
    "- **NC:** reject cycles (acyclicity).  \n",
    "- **EM:** when a **linear extension** exists, complete to one such extension (a total order).  \n",
    "\n",
    "This matches `00b–00d` and supports later notebooks (geometry/dynamics/qudit bridge)."
   ]
  },
  {
   "cell_type": "markdown",
   "metadata": {},
   "source": [
    "## 2) Minimal Data Structures & $L$ Implementation\n",
    "We provide small utilities to:\n",
    "1. Represent candidate relations and test **acyclicity** (Non‑Contradiction).  \n",
    "2. Compute **linear extensions** (Excluded Middle → completion).  \n",
    "3. Measure **inversion count** for a total order (hook‑in to `03_Dynamics_Time`)."
   ]
  },
  {
   "cell_type": "code",
   "execution_count": null,
   "metadata": {},
   "outputs": [],
   "source": [
    "from collections import defaultdict, deque\n",
    "import numpy as np\n",
    "\n",
    "def is_acyclic(N, edges):\n",
    "    \"\"\"Kahn's algorithm for cycle check on directed graph over nodes 1..N.\"\"\"\n",
    "    indeg = [0]*(N+1)\n",
    "    adj = [[] for _ in range(N+1)]\n",
    "    for u,v in edges:\n",
    "        adj[u].append(v)\n",
    "        indeg[v]+=1\n",
    "    q = deque([i for i in range(1,N+1) if indeg[i]==0])\n",
    "    seen = 0\n",
    "    while q:\n",
    "        u = q.popleft(); seen+=1\n",
    "        for w in adj[u]:\n",
    "            indeg[w]-=1\n",
    "            if indeg[w]==0:\n",
    "                q.append(w)\n",
    "    return seen==N\n",
    "\n",
    "def linear_extensions(N, edges, limit=None):\n",
    "    \"\"\"Enumerate linear extensions (total orders) of a DAG.\n",
    "    For N<=8 this is feasible; 'limit' caps the count for speed.\n",
    "    Returns list of permutations (tuples) or a truncated list if limit set.\n",
    "    \"\"\"\n",
    "    # Build adjacency & indegrees\n",
    "    adj = [[] for _ in range(N+1)]\n",
    "    indeg = [0]*(N+1)\n",
    "    for u,v in edges:\n",
    "        adj[u].append(v)\n",
    "        indeg[v]+=1\n",
    "    avail = [i for i in range(1,N+1) if indeg[i]==0]\n",
    "    out = []\n",
    "    stack = [(tuple(), tuple(sorted(avail)), tuple(indeg))]\n",
    "    visited = 0\n",
    "    while stack:\n",
    "        pref, avail, indeg_t = stack.pop()\n",
    "        if len(pref)==N:\n",
    "            out.append(pref)\n",
    "            if limit and len(out)>=limit:\n",
    "                return out\n",
    "            continue\n",
    "        for x in avail:\n",
    "            new_indeg = list(indeg_t)\n",
    "            new_avail = list(avail)\n",
    "            new_avail.remove(x)\n",
    "            for w in adj[x]:\n",
    "                new_indeg[w]-=1\n",
    "                if new_indeg[w]==0:\n",
    "                    new_avail.append(w)\n",
    "            stack.append((pref+(x,), tuple(sorted(new_avail)), tuple(new_indeg)))\n",
    "    return out\n",
    "\n",
    "def L_filter(N, edges):\n",
    "    \"\"\"Apply L = EM ∘ NC ∘ ID to a candidate relation set.\n",
    "    Returns (status, detail):\n",
    "      - ('reject:cycle', None) if cyclic (violates NC)\n",
    "      - ('partial', None) if acyclic but multiple linear extensions (EM not forced)\n",
    "      - ('total', pi) if a unique total order exists (EM selects it)\n",
    "    \"\"\"\n",
    "    if not is_acyclic(N, edges):\n",
    "        return ('reject:cycle', None)\n",
    "    exts = linear_extensions(N, edges, limit=2)\n",
    "    if len(exts)==1:\n",
    "        return ('total', exts[0])\n",
    "    else:\n",
    "        return ('partial', None)\n",
    "\n",
    "def inversion_count(perm):\n",
    "    s = 0\n",
    "    for i in range(len(perm)):\n",
    "        for j in range(i+1,len(perm)):\n",
    "            if perm[i]>perm[j]:\n",
    "                s+=1\n",
    "    return s"
   ]
  },
  {
   "cell_type": "markdown",
   "metadata": {},
   "source": [
    "## 3) Toy Examples\n",
    "We illustrate the three outcomes of $L$ on small graphs."
   ]
  },
  {
   "cell_type": "code",
   "execution_count": null,
   "metadata": {},
   "outputs": [],
   "source": [
    "# N=3, edges forming a cycle (reject)\n",
    "N=3; edges_cycle=[(1,2),(2,3),(3,1)]\n",
    "L_filter(N, edges_cycle)"
   ]
  },
  {
   "cell_type": "code",
   "execution_count": null,
   "metadata": {},
   "outputs": [],
   "source": [
    "# N=3, partial order (multiple linear extensions)\n",
    "N=3; edges_partial=[(1,2)]\n",
    "L_filter(N, edges_partial), linear_extensions(N, edges_partial)[:5]"
   ]
  },
  {
   "cell_type": "code",
   "execution_count": null,
   "metadata": {},
   "outputs": [],
   "source": [
    "# N=4, total (unique linear extension)\n",
    "N=4; edges_total=[(1,2),(2,3),(3,4)]\n",
    "L_filter(N, edges_total)"
   ]
  },
  {
   "cell_type": "markdown",
   "metadata": {},
   "source": [
    "## 4) Feasibility Ratio and the N=4 Threshold (reprise)\n",
    "Define the **consistency/feasibility ratio**\n",
    "$$\\rho_N = \\frac{N!}{2^{\\,N(N-1)/2}},$$\n",
    "the fraction of all pairwise sign choices that correspond to a **consistent** total order. We plot $\\rho_N$ and show its steep decline with $N$, highlighting the special role of $N=4$ discussed in `00d_Origin_of_N`."
   ]
  },
  {
   "cell_type": "code",
   "execution_count": null,
   "metadata": {},
   "outputs": [],
   "source": [
    "import math\n",
    "import matplotlib.pyplot as plt\n",
    "\n",
    "def rho_N(N):\n",
    "    return math.factorial(N) / (2**(N*(N-1)//2))\n",
    "\n",
    "Ns = list(range(2,11))\n",
    "vals = [rho_N(n) for n in Ns]\n",
    "\n",
    "plt.figure(figsize=(6,4))\n",
    "plt.plot(Ns, vals, marker='o')\n",
    "plt.yscale('log')\n",
    "plt.xlabel('N')\n",
    "plt.ylabel('rho_N (log scale)')\n",
    "plt.title('Feasibility ratio rho_N vs N (log scale)')\n",
    "plt.tight_layout()\n",
    "plt.savefig('/mnt/data/rhoN_plot.png', dpi=160)\n",
    "plt.show()\n",
    "vals"
   ]
  },
  {
   "cell_type": "markdown",
   "metadata": {},
   "source": [
    "## 5) Sampling Posets and Linear Extensions\n",
    "We sample random directed graphs (edge probability $p$), filter them with $L$, and estimate how often we get rejection / partial / unique total. This connects the **structure of $I$** (random raw distinctions) to observable output types after filtering."
   ]
  },
  {
   "cell_type": "code",
   "execution_count": null,
   "metadata": {},
   "outputs": [],
   "source": [
    "def random_edges(N, p=0.3, rng=None):\n",
    "    if rng is None:\n",
    "        rng = random\n",
    "    E=[]\n",
    "    for i in range(1,N+1):\n",
    "        for j in range(1,N+1):\n",
    "            if i==j: continue\n",
    "            if rng.random()<p:\n",
    "                E.append((i,j))\n",
    "    return E\n",
    "\n",
    "def trial_stats(N=5, T=200, p=0.3, seed=0):\n",
    "    rng = random.Random(seed)\n",
    "    counts={'reject:cycle':0,'partial':0,'total':0}\n",
    "    for _ in range(T):\n",
    "        E = random_edges(N,p,rng)\n",
    "        status, pi = L_filter(N,E)\n",
    "        counts[status]+=1\n",
    "    return counts\n",
    "\n",
    "stats_5 = trial_stats(N=5, T=400, p=0.25, seed=1)\n",
    "stats_6 = trial_stats(N=6, T=400, p=0.2, seed=2)\n",
    "stats_5, stats_6"
   ]
  },
  {
   "cell_type": "code",
   "execution_count": null,
   "metadata": {},
   "outputs": [],
   "source": [
    "labels = ['reject:cycle','partial','total']\n",
    "y5 = [stats_5[k] for k in labels]\n",
    "y6 = [stats_6[k] for k in labels]\n",
    "\n",
    "import matplotlib.pyplot as plt\n",
    "x = np.arange(len(labels))\n",
    "w = 0.35\n",
    "plt.figure(figsize=(6,4))\n",
    "plt.bar(x-w/2, y5, width=w, label='N=5')\n",
    "plt.bar(x+w/2, y6, width=w, label='N=6')\n",
    "plt.xticks(x, labels, rotation=15)\n",
    "plt.ylabel('count (T trials)')\n",
    "plt.title('Outcomes after L-filter on random raw distinctions')\n",
    "plt.legend()\n",
    "plt.tight_layout()\n",
    "plt.savefig('/mnt/data/L_filter_outcomes.png', dpi=160)\n",
    "plt.show()"
   ]
  },
  {
   "cell_type": "markdown",
   "metadata": {},
   "source": [
    "## 6) Bridge Hooks to Later Notebooks\n",
    "- **To 02 Geometry:** total orders (permutations) realize $S_N$; adjacent swaps → Coxeter generators of $A_{N-1}$.\n",
    "- **To 03 Dynamics & Time:** inversion count on total orders is a Lyapunov functional for refinement (time emerges as descent).  \n",
    "- **To 04 Qudit Bridge:** probability simplex maps affinely to the sum‑zero subspace $V$; $S_N$ orbits ↔ permutohedra.\n",
    "- **To 06 Spacetime Test:** global flow alignment selects a time axis with 3 orthogonal spatial axes in 4D.\n",
    "\n",
    "This notebook provides the **ontological substrate** (space of partial orders) on which all subsequent constructions operate."
   ]
  },
  {
   "cell_type": "markdown",
   "metadata": {},
   "source": [
    "## 7) Takeaways\n",
    "- **$I$ as potential distinctions:** modelled minimally by finite digraphs/partial orders on a countable carrier.\n",
    "- **$L$ as feasibility + completion:** Non‑Contradiction (acyclicity) and Excluded Middle (linear extension) yield actualities as **total orders** when feasible.\n",
    "- **Predictive handle:** The shrinking feasibility ratio $\\rho_N$ and random‑poset outcomes give quantitative levers that connect the ontology to emergent structure (e.g., the special role of $N=4$)."
   ]
  },
  {
   "cell_type": "markdown",
   "metadata": {},
   "source": [
    "## 8) Artifact Manifest\n",
    "- Figure: `/mnt/data/rhoN_plot.png`  \n",
    "- Figure: `/mnt/data/L_filter_outcomes.png`\n",
    "\n",
    "These can be ingested by `07_Figure_Bundle.ipynb` with stable filenames."
   ]
  }
 ],
 "metadata": {
  "kernelspec": {
   "display_name": "Python 3",
   "language": "python",
   "name": "python3"
  },
  "language_info": {
   "name": "python",
   "version": "3.11"
  }
 },
 "nbformat": 4,
 "nbformat_minor": 5
}
