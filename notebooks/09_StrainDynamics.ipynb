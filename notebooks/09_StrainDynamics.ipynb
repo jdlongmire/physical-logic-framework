{
 "cells": [
  {
   "cell_type": "markdown",
   "metadata": {},
   "source": [
    "# LFT: StrainDynamics\n",
    "\n",
    "**Purpose.** Provide a rigorous, self-contained treatment of **logical strain** and **dynamics** on the permutohedron that:\n",
    "1) formally defines the strain tensor and the order field $h(\\sigma)$,\n",
    "2) derives the energy correspondence $E \\propto h$ from L’s logical properties ($ID \\circ NC \\circ EM$),\n",
    "3) defines a **weighted** graph Laplacian and an **L‐compatible generator** for dynamics,\n",
    "4) justifies Boltzmann weights via **maximum entropy** (not thermal equilibrium),\n",
    "5) states a finite **propagation-speed bound**,\n",
    "6) supplies enumerations/simulations for $N=4,5,6$ and exports figures + summary CSV."
   ]
  },
  {
   "cell_type": "markdown",
   "metadata": {},
   "source": [
    "## 1. Formal setup: permutations, strain tensor, and order field\n",
    "**State space:** nodes are permutations $\\sigma \\in S_N$, edges are adjacent transpositions $s_i=(i,i+1)$.\n",
    "\n",
    "**Strain tensor (pair orientation):** for positions $i<j$,\n",
    "$$ s_{ij}(\\sigma) := \\operatorname{sign}\\big(\\sigma(i)-\\sigma(j)\\big) \\in \\{-1,+1\\}, \\qquad s_{ji}=-s_{ij},\\ s_{ii}=0. $$\n",
    "This binary antisymmetric tensor encodes **all pairwise order relations** (no ties in a permutation).\n",
    "\n",
    "**Order field (inversion count):**\n",
    "$$ h(\\sigma) = \\#\\{(i,j): i<j,\\ s_{ij}(\\sigma)=+1\\} = \\frac{1}{2}\\sum_{i<j} \\big(1+s_{ij}(\\sigma)\\big). $$\n",
    "Along an edge $(\\sigma, \\sigma s_i)$, the discrete change is $\\Delta_i h(\\sigma) \\in \\{-1,+1\\}$. Define **discrete gradient components**\n",
    "$$ g_i(\\sigma):= -\\Delta_i h(\\sigma) \\quad (\\text{downhill is } +1). $$"
   ]
  },
  {
   "cell_type": "markdown",
   "metadata": {},
   "source": [
    "## 2. Logical strain metrics\n",
    "Let $d(\\sigma)=\\#\\{i: \\Delta_i h(\\sigma)=-1\\}$ be the number of available downhill moves.\n",
    "\n",
    "- **Edge tension (descent scarcity):** $$ T(\\sigma)=1-\\frac{d(\\sigma)}{N-1}. $$\n",
    "  Large $T \\Rightarrow$ few downhill options $\\rightarrow$ potential stall.\n",
    "- **Ambiguity strain (directional conflict):** with $\\Delta_i h \\in \\{-1,+1\\}$, set\n",
    "$$ \\mu(\\sigma)=\\frac{1}{N-1}\\sum_{i=1}^{N-1}\\Delta_i h(\\sigma), \\qquad S(\\sigma)=1-\\mu(\\sigma)^2. $$\n",
    "  $S \\in [0,1]$ is maximal when up/down options are balanced $\\rightarrow$ decision conflict."
   ]
  },
  {
   "cell_type": "markdown",
   "metadata": {},
   "source": [
    "## 3. Energy from L: why $E \\propto h$\n",
    "We seek a scalar functional $E$ on $S_N$ that is (i) **nonnegative**, (ii) **decreases** on any inversion-removing adjacent swap, and (iii) **invariant** under relabelings that preserve pair order (Identity). With locality (adjacent pairs) and Non-Contradiction (penalize inversions), the **minimal** such functional is proportional to the **inversion count** $h$. Excluded Middle favors **linear extensions** (zeros of $E$). Thus, **gradient-like descent** of $E=h$ implements L’s filtering as dynamics."
   ]
  },
  {
   "cell_type": "markdown",
   "metadata": {},
   "source": [
    "## 4. Dynamics: L‐compatible generator and weighted Laplacian\n",
    "Let $\\mathcal{G}$ be a Markov generator on functions over $S_N$:\n",
    "$$ (\\mathcal{G}f)(\\sigma) = \\sum_{i=1}^{N-1} r_i(\\sigma)\\,\\big(f(\\sigma s_i)-f(\\sigma)\\big),\\qquad r_i(\\sigma) \\ge 0. $$\n",
    "**L‐compatibility:** (a) $r_i(\\sigma)=0$ if the move violates NC; (b) permutation symmetry (ID); (c) probabilities complete (EM). Choosing\n",
    "$$ r_i(\\sigma) = c\\,\\mathbf{1}[\\Delta_i h(\\sigma)=-1] $$\n",
    "induces **steepest descent** of $E=h$ in the **graph-Laplacian** sense. More generally, define a **weighted Laplacian**\n",
    "$$ (\\Delta_w f)(\\sigma) = \\sum_i w_i(\\sigma)\\,\\big(f(\\sigma s_i)-f(\\sigma)\\big), \\quad w_i(\\sigma)>0, $$\n",
    "with natural L‐consistent choices (downhill‐only, ambiguity‐aware, strain‐coupled)."
   ]
  },
  {
   "cell_type": "markdown",
   "metadata": {},
   "source": [
    "## 5. MaxEnt justification for Boltzmann weights (no thermal assumption)\n",
    "On a macro-constraint shell (e.g., fixed $\\mathbb{E}[h]$), maximum entropy over microstates yields\n",
    "$$ P(\\sigma) \\propto e^{-\\beta h(\\sigma)}, $$\n",
    "where $\\beta$ is a **Lagrange multiplier** from constraint counting (not necessarily thermodynamic temperature). This matches the observer micro-constraint picture (LFT_10) and finite-K analyses (LFT_07, LFT_13)."
   ]
  },
  {
   "cell_type": "markdown",
   "metadata": {},
   "source": [
    "## 6. Finite propagation speed (locality bound)\n",
    "One global tick applies a single adjacent swap $s_i$. Any local observable depending on $k$ adjacent relations changes by at most $O(1)$ per tick within a **light-cone** of radius $t$ (number of swaps), hence influence spreads at most linearly: $\\text{diam} \\le v_{\\max} t$ with $v_{\\max}=1$ in edge units $\\rightarrow$ finite **speed** $c$ in physical units after rescaling."
   ]
  },
  {
   "cell_type": "markdown",
   "metadata": {},
   "source": [
    "## 7. Computation utilities\n",
    "Compute $h$, $d$, $T$, $S$ for all $\\sigma \\in S_N$; summarize by $N$."
   ]
  },
  {
   "cell_type": "code",
   "execution_count": null,
   "metadata": {},
   "outputs": [],
   "source": [
    "import itertools, numpy as np, pandas as pd\n",
    "def inv_count(perm):\n",
    "    h=0\n",
    "    for i in range(len(perm)):\n",
    "        for j in range(i+1,len(perm)):\n",
    "            if perm[i]>perm[j]: h+=1\n",
    "    return h\n",
    "def delta_h_adj(perm):\n",
    "    p=list(perm); N=len(p); base=inv_count(p); out=[]\n",
    "    for i in range(N-1):\n",
    "        q=p.copy(); q[i],q[i+1]=q[i+1],q[i]\n",
    "        out.append(inv_count(q)-base)\n",
    "    return out\n",
    "def strain_metrics_for_N(N):\n",
    "    rows=[]\n",
    "    for perm in itertools.permutations(range(1,N+1)):\n",
    "        h=inv_count(perm)\n",
    "        dh=delta_h_adj(perm)\n",
    "        d=sum(1 for x in dh if x==-1)\n",
    "        T=1 - d/(N-1)\n",
    "        mu=float(np.mean(dh))\n",
    "        S=1 - mu*mu\n",
    "        rows.append((perm,h,d,T,S))\n",
    "    return pd.DataFrame(rows, columns=['perm','h','d','T','S'])\n",
    "df4=strain_metrics_for_N(4); df5=strain_metrics_for_N(5); df6=strain_metrics_for_N(6)\n",
    "len(df4), len(df5), len(df6)"
   ]
  },
  {
   "cell_type": "markdown",
   "metadata": {},
   "source": [
    "## 8. Results: distributions and strain–order relations (N=4,5,6)"
   ]
  },
  {
   "cell_type": "code",
   "execution_count": null,
   "metadata": {},
   "outputs": [],
   "source": [
    "import matplotlib.pyplot as plt\n",
    "def plot_histograms(df4, df5, df6, col):\n",
    "    plt.figure(figsize=(6,4))\n",
    "    for df,N in [(df4,4),(df5,5),(df6,6)]:\n",
    "        plt.hist(df[col], bins=20, alpha=0.5, label=f'N={N}', density=True)\n",
    "    plt.xlabel(col); plt.ylabel('density'); plt.title(f'Distribution of {col} across S_N')\n",
    "    plt.legend(); plt.tight_layout(); plt.savefig(f'/mnt/data/LFT_03_5_{col}_hist.png', dpi=160); plt.show()\n",
    "plot_histograms(df4, df5, df6, 'T')\n",
    "plot_histograms(df4, df5, df6, 'S')"
   ]
  },
  {
   "cell_type": "code",
   "execution_count": null,
   "metadata": {},
   "outputs": [],
   "source": [
    "def plot_scatter_h_vs(df, N, col):\n",
    "    plt.figure(figsize=(6,4))\n",
    "    plt.scatter(df['h'], df[col], s=12, alpha=0.5)\n",
    "    plt.xlabel('h(σ)'); plt.ylabel(col); plt.title(f'{col} vs h for N={N}')\n",
    "    plt.tight_layout(); plt.savefig(f'/mnt/data/LFT_03_5_{col}_vs_h_N{N}.png', dpi=160); plt.show()\n",
    "for col in ['T','S']:\n",
    "    plot_scatter_h_vs(df4,4,col)\n",
    "    plot_scatter_h_vs(df5,5,col)\n",
    "    plot_scatter_h_vs(df6,6,col)"
   ]
  },
  {
   "cell_type": "markdown",
   "metadata": {},
   "source": [
    "### Observations\n",
    "- **Tension** shifts upward with $N$: fewer downhill options on average $\\rightarrow$ greater stall propensity.\n",
    "- **Ambiguity** remains large around mid-$h$: many balanced choices $\\rightarrow$ slower resolution.\n",
    "- Combined, these support **dynamic breakdown** for $N \\ge 5$."
   ]
  },
  {
   "cell_type": "markdown",
   "metadata": {},
   "source": [
    "## 9. MaxEnt vs empirical (sanity check)\n",
    "A noisy downhill-biased walk yields state frequencies approximating $\\propto e^{-\\beta h}$ for some effective $\\beta$ (constraint multiplier)."
   ]
  },
  {
   "cell_type": "code",
   "execution_count": null,
   "metadata": {},
   "outputs": [],
   "source": [
    "import random, numpy as np, pandas as pd\n",
    "def gibbs_fit_beta(N=5, steps=60000, seed=1):\n",
    "    rng = random.Random(seed)\n",
    "    sigma = list(range(1,N+1))\n",
    "    def inv_count_local(p):\n",
    "        h=0\n",
    "        for i in range(N):\n",
    "            for j in range(i+1,N):\n",
    "                if p[i]>p[j]: h+=1\n",
    "        return h\n",
    "    counts = {}\n",
    "    for t in range(steps):\n",
    "        i = rng.randrange(N-1)\n",
    "        q = sigma.copy(); q[i],q[i+1] = q[i+1], q[i]\n",
    "        dh = inv_count_local(q)-inv_count_local(sigma)\n",
    "        eps = 0.1  # small noise for ergodicity\n",
    "        if dh<=0 or rng.random()<eps: sigma = q\n",
    "        h = inv_count_local(sigma)\n",
    "        counts[h] = counts.get(h,0)+1\n",
    "    xs = sorted(counts.items())\n",
    "    hs = np.array([k for k,v in xs], float)\n",
    "    fs = np.array([v for k,v in xs], float); fs /= fs.sum()\n",
    "    y = np.log(np.maximum(1e-12, fs))\n",
    "    A = np.vstack([-hs, np.ones_like(hs)]).T\n",
    "    beta, c = np.linalg.lstsq(A, y, rcond=None)[0]\n",
    "    return beta, pd.DataFrame({'h':hs,'freq':fs,'logfreq':y})\n",
    "beta_hat, df_fit = gibbs_fit_beta(N=5, steps=60000, seed=1)\n",
    "beta_hat, df_fit.head()"
   ]
  },
  {
   "cell_type": "markdown",
   "metadata": {},
   "source": [
    "## 10. Notes on $\\kappa$ and continuum limits\n",
    "- **$\\kappa$ (strain-relief rate):** constant to leading order for homogeneous micro-constraint statistics; allow position-dependent $\\kappa(\\sigma)$ in inhomogeneous settings.\n",
    "- **Continuum PDEs:** heat/Poisson equations here are **effective coarse-grained limits** of the discrete weighted-graph dynamics on large permutohedron patches; exact dynamics remain discrete."
   ]
  },
  {
   "cell_type": "markdown",
   "metadata": {},
   "source": [
    "## 11. Artifacts\n",
    "- `/mnt/data/LFT_03_5_T_hist.png`, `/mnt/data/LFT_03_5_S_hist.png`\n",
    "- `/mnt/data/LFT_03_5_T_vs_h_N{4,5,6}.png`\n",
    "- `/mnt/data/LFT_03_5_S_vs_h_N{4,5,6}.png`\n",
    "- (Run cell 9) MaxEnt fit values in-notebook.\n",
    "- (Run cell 8) Summary CSV below."
   ]
  },
  {
   "cell_type": "code",
   "execution_count": null,
   "metadata": {},
   "outputs": [],
   "source": [
    "def summarize(df, N):\n",
    "    return pd.Series({'N':N,'mean_T':df['T'].mean(),'std_T':df['T'].std(),\n",
    "                      'mean_S':df['S'].mean(),'std_S':df['S'].std(),\n",
    "                      'mean_h':df['h'].mean(),'std_h':df['h'].std()})\n",
    "summary = pd.DataFrame([summarize(df4,4), summarize(df5,5), summarize(df6,6)])\n",
    "summary.to_csv('/mnt/data/LFT_03_5_strain_summary.csv', index=False)\n",
    "summary"
   ]
  },
  {
   "cell_type": "markdown",
   "metadata": {},
   "source": [
    "## 12. Integration roadmap & changelog\n",
    "- **Integration:** Replace uniform Laplacian with weighted variants where appropriate; cross-link MaxEnt (07/10/13); cite this notebook whenever strain metrics are used in 05/06 and 00d MERGED.\n",
    "- **Changelog:** This revised 03.5 incorporates reviewer feedback: clarified $s_{ij}$, $E=h$ derivation, generator vs gradient, weighted Laplacian, MaxEnt rationale, speed bound, and effective PDE caveat."
   ]
  }
 ],
 "metadata": {
  "kernelspec": {
   "display_name": "Python 3",
   "language": "python",
   "name": "python3"
  },
  "language_info": {
   "name": "python",
   "version": "3.11"
  }
 },
 "nbformat": 4,
 "nbformat_minor": 5
}
