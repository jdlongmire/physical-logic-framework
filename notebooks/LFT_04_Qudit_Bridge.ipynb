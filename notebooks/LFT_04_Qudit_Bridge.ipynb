{
  "cells": [
    {
      "cell_type": "markdown",
      "metadata": {},
      "source": [
        "# LFT 04 \u2014 Qudit Bridge: Simplex $\\Delta^{N-1}$ \u2194 Sum-zero Space $V$",
        "\n",
        "This notebook proves and verifies the **qudit/simplex bridge** used in LFT:\n",
        "\n",
        "1. The affine map $\\phi: \\Delta^{N-1}\\to V$, $\\phi(p)=p-\\tfrac{1}{N}\\mathbf{1}$, takes the probability simplex to the **sum-zero space** $V=\\{x\\in\\mathbb{R}^N:\\sum x_i=0\\}\\cong\\mathbb{R}^{N-1}$.\n",
        "2. For **generic** $p$ (all coordinates distinct), the $S_N$-orbit $\\{\\sigma\\cdot p\\}$ maps to the **vertex set** of a **permutohedron** in $V$; its edges correspond to **adjacent transpositions** (Coxeter generators of $A_{N-1}$).\n",
        "3. We generate and plot the orbits for **N=4** and **N=5**, save a CSV for reproducibility (N=4), and verify counts and Cayley adjacency.\n"
      ]
    },
    {
      "cell_type": "markdown",
      "metadata": {},
      "source": [
        "## 1. Affine isomorphism $\\phi: \\Delta^{N-1} \\to V$",
        "\n",
        "**Proposition.** The map $\\phi(p)=p-\\tfrac{1}{N}\\mathbf{1}$ is an affine isomorphism between the simplex hyperplane $\\{p:\\sum p_i=1\\}$ and the sum-zero subspace $V$. It commutes with the action of $S_N$ (coordinate permutations).\n",
        "\n",
        "**Proof.** $\\sum_i \\phi(p)_i = \\sum_i p_i - 1 = 0$, so $\\phi(\\Delta^{N-1})\\subset V$. The map is a translation followed by identity on directions within the hyperplane, hence bijective onto $V$. For any permutation matrix $P$ (representing $\\sigma\\in S_N$), $\\phi(Pp) = Pp - \\tfrac{1}{N}\\mathbf{1} = P(p-\\tfrac{1}{N}\\mathbf{1}) = P\\phi(p)$, so it commutes with $S_N$. \u220e"
      ]
    },
    {
      "cell_type": "code",
      "execution_count": null,
      "metadata": {},
      "outputs": [],
      "source": [
        "import numpy as np\n",
        "import itertools, networkx as nx\n",
        "\n",
        "def phi_to_V(p):\n",
        "    p = np.asarray(p, dtype=float)\n",
        "    return p - p.mean()  # since sum p_i = 1, mean = 1/N\n",
        "\n",
        "def orbit_SN_points(p):\n",
        "    N = len(p)\n",
        "    perms = list(itertools.permutations(range(N)))\n",
        "    points = np.array([p[list(s)] for s in perms], dtype=float)\n",
        "    return points, perms\n",
        "\n",
        "def cayley_adjacent_graph_from_perms(perms):\n",
        "    N = len(perms[0])\n",
        "    idx = {p:i for i,p in enumerate(perms)}\n",
        "    G = nx.Graph()\n",
        "    G.add_nodes_from(range(len(perms)))\n",
        "    gens = [(i, i+1) for i in range(N-1)]\n",
        "    for p in perms:\n",
        "        u = idx[p]\n",
        "        for (i,j) in gens:\n",
        "            q = list(p)\n",
        "            q[i], q[j] = q[j], q[i]\n",
        "            v = idx[tuple(q)]\n",
        "            if u < v:\n",
        "                G.add_edge(u, v)\n",
        "    return G\n",
        "\n",
        "def pca_projection(X, k):\n",
        "    Xc = X - X.mean(axis=0, keepdims=True)\n",
        "    U,S,Vt = np.linalg.svd(Xc, full_matrices=False)\n",
        "    return Xc @ Vt[:k].T\n"
      ]
    },
    {
      "cell_type": "markdown",
      "metadata": {},
      "source": [
        "## 2. N=4: Orbit plot, CSV, and adjacency checks\n",
        "\n",
        "We choose a **generic** probability vector (all entries distinct), compute its $S_4$ orbit, map to $V$, and visualize in 3D (no projection needed because $V\\cong\\mathbb{R}^3$). We also save the orbit as CSV for reproducibility."
      ]
    },
    {
      "cell_type": "code",
      "execution_count": null,
      "metadata": {},
      "outputs": [],
      "source": [
        "import os, matplotlib.pyplot as plt\n",
        "from mpl_toolkits.mplot3d import Axes3D  # noqa: F401\n",
        "\n",
        "os.makedirs('./outputs', exist_ok=True)\n",
        "\n",
        "N = 4\n",
        "p4 = np.array([0.07, 0.19, 0.29, 0.45])\n",
        "p4 = p4 / p4.sum()  # ensure sums to 1\n",
        "pts4, perms4 = orbit_SN_points(p4)\n",
        "V4 = np.array([phi_to_V(x) for x in pts4])  # already in R^4 but sum-zero hyperplane\n",
        "\n",
        "# Build adjacent Cayley graph\n",
        "G4 = cayley_adjacent_graph_from_perms(perms4)\n",
        "nodes4, edges4 = V4.shape[0], G4.number_of_edges()\n",
        "print({'N':4,'nodes':nodes4,'edges_adjacent':edges4,'avg_degree':2*edges4/nodes4})\n",
        "assert nodes4 == 24 and edges4 == 36\n",
        "\n",
        "# Reduce to V \u2245 R^3 by an orthonormal basis for sum-zero space\n",
        "def sum_zero_basis(N):\n",
        "    diffs = np.zeros((N, N-1))\n",
        "    for i in range(N-1):\n",
        "        diffs[i, i] = 1.0\n",
        "        diffs[i+1, i] = -1.0\n",
        "    U,S,Vt = np.linalg.svd(diffs, full_matrices=False)\n",
        "    return U  # N x (N-1)\n",
        "\n",
        "B4 = sum_zero_basis(4)\n",
        "V4_coords = V4 @ B4  # (24,3)\n",
        "\n",
        "fig = plt.figure()\n",
        "ax = fig.add_subplot(111, projection='3d')\n",
        "ax.scatter(V4_coords[:,0], V4_coords[:,1], V4_coords[:,2], s=30)\n",
        "for u, v in G4.edges():\n",
        "    x = [V4_coords[u,0], V4_coords[v,0]]\n",
        "    y = [V4_coords[u,1], V4_coords[v,1]]\n",
        "    z = [V4_coords[u,2], V4_coords[v,2]]\n",
        "    ax.plot(x, y, z, linewidth=0.7)\n",
        "ax.set_title('S4 orbit on \u0394^3 mapped to V (\u03a03 vertices)')\n",
        "plt.tight_layout()\n",
        "plt.savefig('./outputs/N4_simplex_orbit_permutohedron.png', dpi=150)\n",
        "plt.close()\n",
        "print('Saved ./outputs/N4_simplex_orbit_permutohedron.png')\n",
        "\n",
        "# Save CSV (per-vertex probabilities and V-coordinates)\n",
        "import pandas as pd\n",
        "df4 = pd.DataFrame({\n",
        "    'p0': pts4[:,0], 'p1': pts4[:,1], 'p2': pts4[:,2], 'p3': pts4[:,3],\n",
        "    'Vx': V4_coords[:,0], 'Vy': V4_coords[:,1], 'Vz': V4_coords[:,2]\n",
        "})\n",
        "df4.to_csv('./outputs/N4_orbit_simplex_permutohedron.csv', index=False)\n",
        "print('Saved ./outputs/N4_orbit_simplex_permutohedron.csv')"
      ]
    },
    {
      "cell_type": "markdown",
      "metadata": {},
      "source": [
        "## 3. N=5: Orbit plot (PCA to 3D) and adjacency checks\n",
        "\n",
        "For **N=5**, $V\\cong\\mathbb{R}^4$. We visualize the 120-point orbit using a 3D PCA projection and overlay adjacent edges (240)."
      ]
    },
    {
      "cell_type": "code",
      "execution_count": null,
      "metadata": {},
      "outputs": [],
      "source": [
        "N = 5\n",
        "p5 = np.array([0.06, 0.13, 0.21, 0.27, 0.33])\n",
        "p5 = p5 / p5.sum()\n",
        "pts5, perms5 = orbit_SN_points(p5)\n",
        "V5 = np.array([phi_to_V(x) for x in pts5])\n",
        "\n",
        "G5 = cayley_adjacent_graph_from_perms(perms5)\n",
        "nodes5, edges5 = V5.shape[0], G5.number_of_edges()\n",
        "print({'N':5,'nodes':nodes5,'edges_adjacent':edges5,'avg_degree':2*edges5/nodes5})\n",
        "assert nodes5 == 120 and edges5 == 240\n",
        "\n",
        "# Project V (sum-zero hyperplane in R^5) \u2192 R^3 for visualization\n",
        "def pca_projection(X, k):\n",
        "    Xc = X - X.mean(axis=0, keepdims=True)\n",
        "    U,S,Vt = np.linalg.svd(Xc, full_matrices=False)\n",
        "    return Xc @ Vt[:k].T\n",
        "\n",
        "P3 = pca_projection(V5, 3)\n",
        "\n",
        "import matplotlib.pyplot as plt\n",
        "fig = plt.figure()\n",
        "ax = fig.add_subplot(111, projection='3d')\n",
        "ax.scatter(P3[:,0], P3[:,1], P3[:,2], s=15)\n",
        "for u, v in G5.edges():\n",
        "    x = [P3[u,0], P3[v,0]]\n",
        "    y = [P3[u,1], P3[v,1]]\n",
        "    z = [P3[u,2], P3[v,2]]\n",
        "    ax.plot(x, y, z, linewidth=0.5)\n",
        "ax.set_title('S5 orbit on \u0394^4 mapped to V (\u03a04 vertices), PCA to 3D')\n",
        "plt.tight_layout()\n",
        "plt.savefig('./outputs/N5_simplex_orbit_permutohedron_PCA3.png', dpi=150)\n",
        "plt.close()\n",
        "print('Saved ./outputs/N5_simplex_orbit_permutohedron_PCA3.png')"
      ]
    },
    {
      "cell_type": "markdown",
      "metadata": {},
      "source": [
        "## 4. Conclusions\n",
        "- The simplex hyperplane and sum-zero space are **affinely isomorphic** via $\\phi$.\n",
        "- Generic simplex orbits under $S_N$ produce the **permutohedron vertex sets** in $V$.\n",
        "- **Edges = adjacent swaps** (Coxeter generators), verified by counts (N=4: 24/36, N=5: 120/240).\n",
        "- This establishes the **qudit-population** reading of the $N-1$ axes as **population differences** in $V$ (the \u201cdiagonal sector\u201d)."
      ]
    }
  ],
  "metadata": {
    "kernelspec": {
      "display_name": "Python 3",
      "language": "python",
      "name": "python3"
    },
    "language_info": {
      "name": "python",
      "version": "3.11"
    }
  },
  "nbformat": 4,
  "nbformat_minor": 2
}