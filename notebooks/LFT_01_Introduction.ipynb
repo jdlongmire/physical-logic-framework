{
  "cells": [
    {
      "cell_type": "markdown",
      "metadata": {},
      "source": [
        "# LFT 01 \u2014 Introduction (Rigor Edition)\n",
        "\n",
        "This notebook introduces **Logic Field Theory (LFT)** with **fully justified derivations** and verifications on the minimal nontrivial case **N=3**. We formalize the logical filtering pipeline (A = L(I)), connect it to **Coxeter system** $W(A_{N-1})$, and verify claims with exact code.\n",
        "\n",
        "### Roadmap\n",
        "1. **Logical Filtering** (Identity, Non-Contradiction, Excluded Middle) \u2192 DAGs/partials/totals.\n",
        "2. **Coxeter Derivation**: $S_N \\cong W(A_{N-1})$ acts on the sum-zero space $V$ (dim = $N-1$).\n",
        "3. **Permutohedron**: vertices = total orders, **edges = adjacent transpositions**.\n",
        "4. **Verification for $N=3$**: pattern counts, $A_2$ Gram matrix, Cayley graph properties, and the permutohedron hexagon.\n"
      ]
    },
    {
      "cell_type": "markdown",
      "metadata": {},
      "source": [
        "## 1. Logical Filtering: from raw distinctions to orders\n",
        "\n",
        "**Definition.** A *pattern* on elements $\\{0,\\dots,N-1\\}$ is a set of ordered pairs $E\\subseteq \\{0,\\dots,N-1\\}^2$. The logical operator $L$ enforces:\n",
        "- **Identity (ID)**: $(i,i)$ for all $i$ (reflexivity).\n",
        "- **Non-Contradiction (NC)**: never both $(i,j)$ and $(j,i)$ for $i\\ne j$.\n",
        "- **Excluded Middle (EM)** *(operational proxy)*: **acyclicity** (so the non-reflexive edges form a DAG).\n",
        "\n",
        "Thus a pattern passes $L$ iff its non-reflexive edges define a **partial order**. **Total orders** are DAGs where for each unordered pair $\\{i,j\\}$ exactly one orientation appears."
      ]
    },
    {
      "cell_type": "code",
      "execution_count": null,
      "metadata": {},
      "outputs": [],
      "source": [
        "import numpy as np\n",
        "import networkx as nx\n",
        "from itertools import combinations\n",
        "\n",
        "def has_cycle(pattern):\n",
        "    edges = [(a,b) for (a,b) in pattern if a!=b]\n",
        "    G = nx.DiGraph()\n",
        "    G.add_edges_from(edges)\n",
        "    return not nx.is_directed_acyclic_graph(G)\n",
        "\n",
        "def violates_non_contradiction(pattern):\n",
        "    pairs = set((a,b) for (a,b) in pattern if a!=b)\n",
        "    for (a,b) in pairs:\n",
        "        if (b,a) in pairs:\n",
        "            return True\n",
        "    return False\n",
        "\n",
        "def apply_L(pattern, elements):\n",
        "    # Identity\n",
        "    p = set(pattern) | {(i,i) for i in elements}\n",
        "    # Non-Contradiction\n",
        "    if violates_non_contradiction(p):\n",
        "        return None\n",
        "    # Excluded Middle (acyclicity)\n",
        "    if has_cycle(p):\n",
        "        return None\n",
        "    return p\n",
        "\n",
        "def is_total_order(pattern, elements):\n",
        "    p = set((a,b) for (a,b) in pattern if a!=b)\n",
        "    # exactly one orientation per unordered pair\n",
        "    for i,j in combinations(elements,2):\n",
        "        if ((i,j) in p) == ((j,i) in p):\n",
        "            return False\n",
        "    # acyclic\n",
        "    return nx.is_directed_acyclic_graph(nx.DiGraph(list(p)))\n",
        "\n",
        "def pattern_to_ordering(pattern, elements):\n",
        "    if not is_total_order(pattern, elements):\n",
        "        return None\n",
        "    G = nx.DiGraph([(a,b) for (a,b) in pattern if a!=b])\n",
        "    order = list(nx.topological_sort(G))\n",
        "    return '<'.join(map(str, order))"
      ]
    },
    {
      "cell_type": "markdown",
      "metadata": {},
      "source": [
        "### Exhaustive classification for $N=3$\n",
        "We enumerate **all directed-pair subsets** (with reflexives enforced by ID) and classify into cycles, partials, and totals."
      ]
    },
    {
      "cell_type": "code",
      "execution_count": null,
      "metadata": {},
      "outputs": [],
      "source": [
        "from itertools import product\n",
        "import matplotlib.pyplot as plt\n",
        "import os\n",
        "\n",
        "N=3\n",
        "elements=tuple(range(N))\n",
        "dirs=[(a,b) for a in elements for b in elements if a!=b]  # 6 directed pairs\n",
        "\n",
        "all_patterns=[]\n",
        "for mask in range(1<<len(dirs)):\n",
        "    subset=[dirs[k] for k in range(len(dirs)) if (mask>>k)&1]\n",
        "    pattern=set(subset) | {(i,i) for i in elements}\n",
        "    all_patterns.append(pattern)\n",
        "\n",
        "filtered=[p for p in all_patterns if apply_L(p, elements) is not None]\n",
        "totals=[p for p in filtered if is_total_order(p, elements)]\n",
        "partials=[p for p in filtered if not is_total_order(p, elements)]\n",
        "cycles=[p for p in all_patterns if has_cycle(p)]\n",
        "\n",
        "print({'total':len(all_patterns),'consistent':len(filtered),'partials':len(partials),'totals':len(totals),'cycles':len(cycles)})\n",
        "\n",
        "os.makedirs('./outputs', exist_ok=True)\n",
        "labels=['Cycles','Partials','Totals']\n",
        "sizes=[len(cycles),len(partials),len(totals)]\n",
        "plt.figure()\n",
        "plt.pie(sizes, labels=labels, autopct='%1.1f%%', startangle=90)\n",
        "plt.title('Pattern Distribution (N=3)')\n",
        "plt.tight_layout()\n",
        "plt.savefig('./outputs/N3_pattern_distribution.png', dpi=150)\n",
        "plt.close()"
      ]
    },
    {
      "cell_type": "markdown",
      "metadata": {},
      "source": [
        "## 2. Coxeter derivation: $S_N \\cong W(A_{N-1})$ on $V=\\{x: \\sum x_i=0\\}$\n",
        "\n",
        "**Theorem (standard).** With simple roots $\\alpha_i=e_i-e_{i+1}$, the reflections\n",
        "$$s_i(x)=x-\\frac{2\\langle x,\\alpha_i\\rangle}{\\langle\\alpha_i,\\alpha_i\\rangle}\\,\\alpha_i$$\n",
        "swap coordinates $i\\leftrightarrow i+1$. The generated group is isomorphic to $S_N$, and $\\dim V=N-1$ gives the **rank**.\n",
        "\n",
        "**Check for $A_2$ (N=3):** the Gram/Cartan matrix has diagonals 2, off-diagonals \u22121 for adjacent roots (cosine \u22121/2 = 120\u00b0)."
      ]
    },
    {
      "cell_type": "code",
      "execution_count": null,
      "metadata": {},
      "outputs": [],
      "source": [
        "import numpy as np\n",
        "\n",
        "def roots_A(N):\n",
        "    # simple roots alpha_i = e_i - e_{i+1} in R^N\n",
        "    roots=[np.eye(N)[i]-np.eye(N)[i+1] for i in range(N-1)]\n",
        "    roots=np.stack(roots, axis=0)  # (N-1, N)\n",
        "    G=np.zeros((N-1,N-1))\n",
        "    for i in range(N-1):\n",
        "        for j in range(N-1):\n",
        "            G[i,j]=2*np.dot(roots[i],roots[j])  # Cartan form: 2*(,)/(||alpha||^2) with ||alpha||^2=2\n",
        "    return roots,G\n",
        "\n",
        "roots,G=roots_A(3)\n",
        "print('Cartan A2:\\n',G)\n",
        "cos=G/2.0\n",
        "print('Cosines:\\n',cos)"
      ]
    },
    {
      "cell_type": "markdown",
      "metadata": {},
      "source": [
        "## 3. Permutohedron & Cayley graph (edges = adjacent swaps)\n",
        "\n",
        "**Definition.** For strictly increasing $a\\in\\mathbb{R}^N$ with $\\sum a_i=0$, the **permutohedron** $\\Pi_{N-1}(a)=\\operatorname{conv}\\{\\sigma\\cdot a\\}$ lives in $V$. Its 1-skeleton connects permutations that differ by a **single adjacent transposition** (Coxeter generator).\n",
        "\n",
        "We verify this for $N=3$ by constructing the **adjacent-generator** Cayley graph on $S_3$ and checking degree/edge counts and connectivity."
      ]
    },
    {
      "cell_type": "code",
      "execution_count": null,
      "metadata": {},
      "outputs": [],
      "source": [
        "import itertools, networkx as nx\n",
        "\n",
        "def cayley_adjacent_graph(N):\n",
        "    perms=list(itertools.permutations(range(N)))\n",
        "    idx={p:i for i,p in enumerate(perms)}\n",
        "    G=nx.Graph()\n",
        "    G.add_nodes_from(range(len(perms)))\n",
        "    gens=[(i,i+1) for i in range(N-1)]\n",
        "    for p in perms:\n",
        "        u=idx[p]\n",
        "        for (i,j) in gens:\n",
        "            q=list(p); q[i],q[j]=q[j],q[i]\n",
        "            v=idx[tuple(q)]\n",
        "            if u<v:\n",
        "                G.add_edge(u,v)\n",
        "    return G, perms\n",
        "\n",
        "G3, perms3 = cayley_adjacent_graph(3)\n",
        "print({'nodes':G3.number_of_nodes(),'edges':G3.number_of_edges(),'avg_degree':2*G3.number_of_edges()/G3.number_of_nodes()})\n",
        "assert G3.number_of_nodes()==6\n",
        "assert G3.number_of_edges()==6  # N!*(N-1)/2 for N=3 \u2192 6*2/2=6\n",
        "assert nx.is_connected(G3)\n",
        "print('Cayley S3 (adjacent) checks passed.')"
      ]
    },
    {
      "cell_type": "markdown",
      "metadata": {},
      "source": [
        "### Visual: permutohedron $\\Pi_2$ (N=3) as a hexagon (PCA on $V$)\n",
        "We embed the vertex set (permutations of a centered vector) in the sum-zero space and plot a 2D PCA projection to show the hexagon structure."
      ]
    },
    {
      "cell_type": "code",
      "execution_count": null,
      "metadata": {},
      "outputs": [],
      "source": [
        "import numpy as np, matplotlib.pyplot as plt\n",
        "\n",
        "def sum_zero_basis(N):\n",
        "    diffs=np.zeros((N,N-1))\n",
        "    for i in range(N-1):\n",
        "        diffs[i,i]=1.0; diffs[i+1,i]=-1.0\n",
        "    U,S,Vt=np.linalg.svd(diffs, full_matrices=False)\n",
        "    return U  # N x (N-1)\n",
        "\n",
        "def permutohedron_coords(N):\n",
        "    B=sum_zero_basis(N)\n",
        "    a=np.arange(N, dtype=float)-(N-1)/2.0\n",
        "    verts=[]\n",
        "    for p in itertools.permutations(range(N)):\n",
        "        verts.append(B.T @ a[list(p)])\n",
        "    V=np.vstack(verts)  # (N!, N-1)\n",
        "    X=V - V.mean(axis=0, keepdims=True)\n",
        "    U,S,Vt=np.linalg.svd(X, full_matrices=False)\n",
        "    P2=X @ Vt[:2].T\n",
        "    return V,P2\n",
        "\n",
        "V,P2=permutohedron_coords(3)\n",
        "plt.figure()\n",
        "plt.scatter(P2[:,0],P2[:,1], s=40)\n",
        "plt.title('Permutohedron $\\\\Pi_2$ (N=3) \u2014 PCA projection')\n",
        "plt.axis('equal')\n",
        "plt.tight_layout()\n",
        "plt.savefig('./outputs/N3_permutohedron_hexagon.png', dpi=150)\n",
        "plt.close()\n",
        "print('Saved ./outputs/N3_permutohedron_hexagon.png')"
      ]
    },
    {
      "cell_type": "markdown",
      "metadata": {},
      "source": [
        "## 4. Takeaways for the N\u22121 derivation\n",
        "- The state space of total orders lives on the **permutohedron** in the **sum-zero space** $V\\cong\\mathbb{R}^{N-1}$.\n",
        "- Its **edges are adjacent reflections** (Coxeter generators), so the **rank** (= number of independent generators) is **$N-1$**.\n",
        "- For $N=3$, this gives a clean, finitely checkable case: $A_2$ roots, hexagon permutohedron, and a 2-regular adjacent Cayley graph.\n",
        "\n",
        "In **Notebook 2 (Geometry Derivation)** we crank this to $N=4$ to show the 3D permutohedron $\\Pi_3$ and the full $A_3$ Cartan geometry \u2014 the first physics-relevant case (3D space)."
      ]
    }
  ],
  "metadata": {
    "kernelspec": {
      "display_name": "Python 3",
      "language": "python",
      "name": "python3"
    },
    "language_info": {
      "name": "python",
      "version": "3.11"
    }
  },
  "nbformat": 4,
  "nbformat_minor": 2
}