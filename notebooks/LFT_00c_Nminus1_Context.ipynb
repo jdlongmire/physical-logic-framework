{
  "cells": [
    {
      "cell_type": "markdown",
      "metadata": {},
      "source": [
        "# LFT 00c \u2014 The N\u22121 Problem: Context, Hypotheses, and Success Criteria\n",
        "\n",
        "This notebook **frames** the N\u22121 generator\u2013dimension problem *prior* to the formal derivations and simulations.\n",
        "It defines the question, lays out hypotheses and alternatives, and records the **success criteria** that later notebooks satisfy."
      ]
    },
    {
      "cell_type": "markdown",
      "metadata": {},
      "source": [
        "## 1. Problem Statement\n",
        "Why does the symmetric group $S_N$ having exactly **$N-1$ adjacent transposition generators** (Coxeter type $A_{N-1}$) align with observed dimensionalities (e.g., 3 for $N=4$) in the Logic Field Theory program?  \n",
        "\n",
        "**LFT Claim.** Filtering distinctions into consistent orderings places us in permutation geometry. The action of $S_N$ on the sum-zero hyperplane \n",
        "$$V = \\{x\\in\\mathbb{R}^N : \\sum_i x_i = 0\\} \\cong \\mathbb{R}^{N-1}$$\n",
        "has **rank $N-1$**, which is the **intrinsic spatial dimension** of the logical stage. **Time** is not an extra root; it arises as **monotone L-flow** on this stage."
      ]
    },
    {
      "cell_type": "markdown",
      "metadata": {},
      "source": [
        "## 2. Hypotheses\n",
        "- **H1 \u2014 Rank = Dimension.**  \n",
        "  The Coxeter system $(W,S)$ with $W\\cong S_N$ and $S=\\{s_1,\\dots,s_{N-1}\\}$ acts faithfully on $V$, yielding $\\dim V=N-1$ and producing the **permutohedron** $\\Pi_{N-1}$ as an $S_N$ orbit polytope.\n",
        "\n",
        "- **H2 \u2014 Time = Logical Flow.**  \n",
        "  Define the inversion count $h(\\sigma)$ on total orders. Local $L$-updates (adjacent swaps reducing inversions) produce a **Lyapunov descent** $h(t)$, giving a canonical time axis.\n",
        "\n",
        "- **H3 \u2014 Quantum Bridge.**  \n",
        "  The $S_N$-orbit of a generic probability vector $p\\in\\Delta^{N-1}$ maps affinely into $V$ and reproduces $\\Pi_{N-1}$. Population differences align with $A_{N-1}$ roots (qudit link)."
      ]
    },
    {
      "cell_type": "markdown",
      "metadata": {},
      "source": [
        "## 3. Alternatives Considered (and Rejected)\n",
        "- **All-Transposition Generators.**  \n",
        "  Using all $\\binom{N}{2}$ transpositions as generators inflates degree and washes out the **rank-$N-1$** geometry; it is not minimal and obscures locality.\n",
        "\n",
        "- **Extra Spatial Root for Time.**  \n",
        "  Adding an additional generator to \u201cmake time\u201d double-counts. **Time** is a **direction of descent** on $V$, not an extra simple reflection; it is derived from dynamics (L-flow), not kinematics.\n",
        "\n",
        "- **Ad hoc Euclidean Embeddings.**  \n",
        "  Embedding $\\Pi_{N-1}$ without respecting $A_{N-1}$ (Cartan/Gram) destroys interpretability and breaks the logic\u2013geometry correspondence."
      ]
    },
    {
      "cell_type": "markdown",
      "metadata": {},
      "source": [
        "## 4. Success Criteria (to be demonstrated in later notebooks)\n",
        "1. **C1 \u2014 Vertex/Edge Counts (Adjacent Cayley Graphs).**  \n",
        "   For $N=4,5$: vertices $=N!$, edges $=N!\\cdot(N-1)/2$ (e.g., 24/36 and 120/240).\n",
        "\n",
        "2. **C2 \u2014 Cartan Fidelity (Root System $A_{N-1}$).**  \n",
        "   Gram matrices with diag 2, off-diag \u22121 for adjacent roots, 0 otherwise; cosines \u22121/2 (120\u00b0) for adjacent, 0 for non-adjacent.\n",
        "\n",
        "3. **C3 \u2014 Monotone $h(t)$ (L-Flow).**  \n",
        "   Inversion count decreases under local updates for $N=4,5,6$ (random and worst-case starts).\n",
        "\n",
        "4. **C4 \u2014 Simplex\u2013Permutohedron Bridge.**  \n",
        "   Affine map $\\phi: \\Delta^{N-1}\\to V$ commuting with $S_N$; permuted probabilities form $\\Pi_{N-1}$.\n",
        "\n",
        "5. **C5 \u2014 Spacetime Factorization (3+1 in $\\mathbb{R}^4$ for $N=6$).**  \n",
        "   A global time axis aligned to local descent; spatial axes in $w_t^{\\perp}$. Report edge distortions vs. time-monotonicity trade-offs."
      ]
    },
    {
      "cell_type": "markdown",
      "metadata": {},
      "source": [
        "## 5. Validation Pointers\n",
        "- **01_Introduction** \u2014 small-$N$ filtering statistics; groundwork for totals.\n",
        "- **02_Geometry** \u2014 $A_{N-1}$ action on $V$, permutohedra, adjacent-edge Cayley graphs (C1, C2).\n",
        "- **03_Dynamics\\_Time** \u2014 inversion Lyapunov and descent (C3).\n",
        "- **04_Quantum\\_Link** \u2014 simplex orbits \\(\\to\\) permutohedra (C4).\n",
        "- **05_Scaling\\_N6** \u2014 validation at $N=6$, embedding stress.\n",
        "- **06_Spacetime\\_Test** \u2014 3+1 factorization in $\\mathbb{R}^4$ (C5)."
      ]
    },
    {
      "cell_type": "markdown",
      "metadata": {},
      "source": [
        "## 6. Checklist (for the record)\n",
        "- [ ] Adjacent Cayley graphs: counts verified (N=4,5).\n",
        "- [ ] Cartan/Gram matrices computed (A$_3$, A$_4$).\n",
        "- [ ] $h(t)$ monotone descent shown (N=4\u20136).\n",
        "- [ ] Simplex orbit \u2192 permutohedron mapping verified.\n",
        "- [ ] Spacetime factorization plots (cosine hist, edge-error, $\\lambda_{\\text{time}}$ sweep) complete."
      ]
    },
    {
      "cell_type": "code",
      "execution_count": null,
      "metadata": {},
      "outputs": [],
      "source": [
        "# Tiny helper: pretty-print the success criteria as a dict (for programmatic checks later)\n",
        "success_criteria = {\n",
        "    'C1': 'Adjacent Cayley graph counts (N=4,5)',\n",
        "    'C2': 'Cartan fidelity for A_{N-1} roots (Gram/cosine)',\n",
        "    'C3': 'Monotone h(t) descent on S_N (N=4..6)',\n",
        "    'C4': 'Simplex\u2013permutohedron affine bridge',\n",
        "    'C5': '3+1 spacetime factorization for N=6 in R^4'\n",
        "}\n",
        "success_criteria"
      ]
    }
  ],
  "metadata": {
    "kernelspec": {
      "display_name": "Python 3",
      "language": "python",
      "name": "python3"
    },
    "language_info": {
      "name": "python",
      "version": "3.11"
    }
  },
  "nbformat": 4,
  "nbformat_minor": 2
}