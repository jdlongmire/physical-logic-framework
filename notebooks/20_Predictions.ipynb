{
 "cells": [
  {
   "cell_type": "markdown",
   "metadata": {},
   "source": [
    "# LFT: Predictions - Finite‑K Effects and Constraint‑Geometry Tests\n",
    "\n",
    "## Objective\n",
    "Translate LFT’s explanatory framework into **novel, testable predictions.** We focus on two families:\n",
    "\n",
    "1) **Finite‑K effects** in the Born rule and Bell tests: outcome probabilities and Bell correlators deviate from their asymptotic (QM) values by terms that scale like **O(1/K)**, where **K = number of micro‑constraints** accumulated during measurement.\n",
    "2) **Constraint‑geometry gravity tests**: toy mapping from constraint potential to weak‑field GR observables; propose lab‑level and astrophysical probes.\n",
    "\n",
    "This notebook provides derivations, simulations, and experiment templates."
   ]
  },
  {
   "cell_type": "markdown",
   "metadata": {},
   "source": [
    "## Part A — Finite‑K Born Rule Deviations (Novel, falsifiable)\n",
    "### A.1 Setup\n",
    "From LFT_07 (Formal): with i.i.d. isotropic micro‑constraints $u_k$, the outcome scores are\n",
    "$$ S_i(K)=\\sum_{k=1}^K (u_{k,i}\\,\\psi_i)^2. $$\n",
    "As $K\\to\\infty$, the selection probability $\\Pr(\\text{outcome}=i)$ tends to $|\\psi_i|^2$. For **finite $K$**, $S_i$ are **scaled chi‑square–like** random variables and the argmax rule induces **biases and extra variance**.\n",
    "\n",
    "### A.2 Prediction (quantitative)\n",
    "- For a fixed state $\\psi\\in\\mathbb{R}^d$, with $p_i=|\\psi_i|^2$, the **mean outcome frequency** over many independent measurements with **finite $K$** obeys\n",
    "$$ \\mathbb{E}[\\hat p_i(K)] \\;=\\; p_i \\;\\pm\\; \\Theta\\!\\left(\\frac{1}{K}\\right), $$\n",
    "and the **run‑to‑run variance** scales as\n",
    "$$ \\operatorname{Var}[\\hat p_i(K)] \\;\\sim\\; \\frac{c(p)}{K\\,T}, $$\n",
    "for $T$ trials. Here $c(p)$ is a known function of $p$; the $1/K$ law is **distinctive** to LFT’s constraint‑counting mechanism.\n",
    "\n",
    "### A.3 Simulation (2‑outcome and 4‑outcome cases)"
   ]
  },
  {
   "cell_type": "code",
   "execution_count": 1,
   "metadata": {},
   "outputs": [],
   "source": [
    "import numpy as np\n",
    "import matplotlib.pyplot as plt\n",
    "rng = np.random.default_rng(0)\n",
    "\n",
    "def sample_outcome_probs(psi, K, T=5000):\n",
    "    psi = np.array(psi, dtype=float)\n",
    "    psi = psi/np.linalg.norm(psi)\n",
    "    d = len(psi)\n",
    "    wins = np.zeros(d, dtype=int)\n",
    "    for _ in range(T):\n",
    "        # micro-constraints: K unit vectors sampled isotropically\n",
    "        U = rng.normal(size=(K,d)); U /= np.linalg.norm(U, axis=1, keepdims=True)\n",
    "        scores = ((U*psi)**2).sum(axis=0)\n",
    "        i_star = np.argmax(scores)\n",
    "        wins[i_star]+=1\n",
    "    return wins / wins.sum()\n",
    "\n",
    "def convergence_curve(psi, Ks, T=4000):\n",
    "    out = []\n",
    "    for K in Ks:\n",
    "        out.append(sample_outcome_probs(psi, K, T=T))\n",
    "    return np.array(out)\n",
    "\n",
    "psi2 = np.array([np.sqrt(0.3), np.sqrt(0.7)])\n",
    "Ks = [1,2,3,5,8,13,21,34,55,89,144]\n",
    "P2 = convergence_curve(psi2, Ks, T=6000)\n",
    "born2 = (psi2/np.linalg.norm(psi2))**2\n",
    "\n",
    "plt.figure(figsize=(6,4))\n",
    "plt.plot(Ks, P2[:,0], marker='o', label='empirical p0(K)')\n",
    "plt.axhline(born2[0], linestyle='--', label='Born p0')\n",
    "plt.xscale('log')\n",
    "plt.xlabel('K (micro-constraints)')\n",
    "plt.ylabel('p0')\n",
    "plt.title('Finite-K bias and convergence (2-outcome)')\n",
    "plt.legend(); plt.tight_layout()\n",
    "plt.savefig('/mnt/data/LFT_13_finiteK_born_2out.png', dpi=160)\n",
    "plt.show()\n",
    "\n",
    "psi4 = np.array([0.1,0.3,0.4,0.2])\n",
    "P4 = convergence_curve(psi4, Ks, T=5000)\n",
    "born4 = (psi4/np.linalg.norm(psi4))**2\n",
    "\n",
    "plt.figure(figsize=(6,4))\n",
    "for i in range(4):\n",
    "    plt.plot(Ks, P4[:,i], marker='o', label=f'outcome {i}')\n",
    "    plt.axhline(born4[i], linestyle='--')\n",
    "plt.xscale('log')\n",
    "plt.xlabel('K (micro-constraints)')\n",
    "plt.ylabel('p_i')\n",
    "plt.title('Finite-K convergence (4-outcome)')\n",
    "plt.tight_layout(); plt.legend(ncol=2)\n",
    "plt.savefig('/mnt/data/LFT_13_finiteK_born_4out.png', dpi=160)\n",
    "plt.show()\n",
    "born2, born4"
   ]
  },
  {
   "cell_type": "markdown",
   "metadata": {},
   "source": [
    "### A.4 Experimental design (near‑term, lab‑scale)\n",
    "- **Platform:** superconducting qubits or trapped ions.  \n",
    "- **Knob for K:** vary the **measurement complexity/latency** (e.g., integration time, number of internal thresholding steps, or detector depth) to change the effective **number of micro‑constraints** accumulated before declaring an outcome.  \n",
    "- **Protocol:** prepare a known superposition (e.g., $\\sqrt{0.3}|0\\rangle+\\sqrt{0.7}|1\\rangle$); sweep K; estimate outcome frequencies; fit $p_i(K)=p_i + a_i/K + \\cdots$.  \n",
    "- **Discriminator:** standard QM predicts no **systematic** $1/K$ bias; LFT predicts a controlled **$1/K$ trend** plus variance scaling $\\propto 1/(K T)$.  \n",
    "- **Control:** ensure no drift/noise confounds mimic the $1/K$ trend (interleave K settings; randomized sequences)."
   ]
  },
  {
   "cell_type": "markdown",
   "metadata": {},
   "source": [
    "## Part B — Finite‑K Bell (CHSH) Bound Tightening\n",
    "LFT_11 shows Tsirelson’s bound arises from PSD‑Gram feasibility. For **finite K**, micro‑constraint fluctuations act as **PSD‑preserving noise** that tends to **reduce** the attainable CHSH value below $2\\sqrt{2}$ by an amount scaling like **$\\beta/K$**.\n",
    "\n",
    "### B.1 Prediction (quantitative)\n",
    "$$ S_{\\max}(K) \\;\\approx\\; 2\\sqrt{2}\\,\\Big(1 - \\frac{\\beta}{K}\\Big), \\qquad K\\gg 1, $$\n",
    "with a platform‑dependent constant $\\beta>0$ tied to the micro‑constraint statistics.\n",
    "\n",
    "### B.2 Simulation (vector model with isotropic jitter)"
   ]
  },
  {
   "cell_type": "code",
   "execution_count": 2,
   "metadata": {},
   "outputs": [],
   "source": [
    "def S_max_with_K(K, trials=4000):\n",
    "    # Start from Tsirelson-achieving configuration in R^2, add isotropic jitter ~ N(0, sigma^2) with sigma ~ 1/sqrt(K)\n",
    "    import numpy as np\n",
    "    rng = np.random.default_rng(1)\n",
    "    b0 = np.array([1.0,0.0]); b1 = np.array([0.0,1.0])\n",
    "    a0 = (b0 + b1)/np.linalg.norm(b0+b1)\n",
    "    a1 = (b0 - b1)/np.linalg.norm(b0-b1)\n",
    "    base = np.stack([a0,a1,b0,b1])\n",
    "    sig = 1.0/np.sqrt(K)\n",
    "    def S_val(vs):\n",
    "        a0,a1,b0,b1 = vs\n",
    "        def dot(u,v): return float(np.dot(u,v))\n",
    "        return dot(a0,b0)+dot(a0,b1)+dot(a1,b0)-dot(a1,b1)\n",
    "    best = -1e9\n",
    "    for _ in range(trials):\n",
    "        noise = rng.normal(scale=sig, size=base.shape)\n",
    "        vs = base + noise\n",
    "        vs = vs/np.linalg.norm(vs, axis=1, keepdims=True)\n",
    "        best = max(best, S_val(vs))\n",
    "    return best\n",
    "\n",
    "Ks = [2,3,5,8,13,21,34,55,89,144]\n",
    "Smax = [S_max_with_K(K, trials=3000) for K in Ks]\n",
    "\n",
    "plt.figure(figsize=(6,4))\n",
    "plt.plot(Ks, Smax, marker='o', label='simulated S_max(K)')\n",
    "plt.axhline(2*math.sqrt(2), linestyle='--', label='Tsirelson 2√2')\n",
    "plt.xscale('log')\n",
    "plt.xlabel('K')\n",
    "plt.ylabel('max CHSH S')\n",
    "plt.title('Finite-K tightening of attainable CHSH')\n",
    "plt.legend(); plt.tight_layout()\n",
    "plt.savefig('/mnt/data/LFT_13_finiteK_CHSH.png', dpi=160)\n",
    "plt.show()\n",
    "Smax[-1]"
   ]
  },
  {
   "cell_type": "markdown",
   "metadata": {},
   "source": [
    "### B.3 Experimental design (near‑term)\n",
    "- **Platform:** photonic or ion‑trap Bell tests.  \n",
    "- **Knob for K:** tune **measurement integration time / depth** and **analysis pipeline granularity** to modulate effective micro‑constraints.  \n",
    "- **Protocol:** observe $S_{\\max}(K)$ via measurement‑setting sweeps; fit to $2\\sqrt{2}(1-\\beta/K)$.  \n",
    "- **Discriminator:** Standard QM does **not** predict a systematic $1/K$ reduction linked to measurement complexity; LFT does."
   ]
  },
  {
   "cell_type": "markdown",
   "metadata": {},
   "source": [
    "## Part C — Constraint‑Geometry Gravity: Toward Quantitative Links\n",
    "### C.1 Weak‑field matching (toy mapping)\n",
    "From LFT_12, local slowdown factor: $dt_\\text{local} = 1 + \\alpha\\,\\Phi$ with constraint potential $\\Phi$. In weak field GR, $g_{tt} \\approx 1 + 2\\,\\Phi_N/c^2$. Matching suggests $\\alpha\\,\\Phi \\leftrightarrow 2\\,\\Phi_N/c^2$.\n",
    "\n",
    "Assuming $\\Phi$ obeys a Poisson‑like relation with **constraint density** $\\rho_c$,\n",
    "$$ \\nabla^2 \\Phi \\;=\\; \\kappa\\, \\rho_c, $$\n",
    "we infer\n",
    "$$ \\nabla^2 \\Phi_N \\;=\\; 4\\pi G\\, \\rho_m \\;\\sim\\; \\frac{c^2\\alpha}{2}\\, \\kappa\\, \\rho_c. $$\n",
    "If **constraint density tracks mass‑energy**, $\\rho_c = \\lambda\\, \\rho_m$, then\n",
    "$$ G \\;\\sim\\; \\frac{c^2\\alpha\\kappa\\lambda}{8\\pi}. $$\n",
    "This provides a **calibration route**: measure $(\\alpha,\\kappa,\\lambda)$ from micro‑to‑macro experiments to estimate **G** from LFT parameters.\n",
    "\n",
    "### C.2 Experimental ideas\n",
    "- **Table‑top redshift analogue:** two synchronized clocks implemented as **constraint counters** (e.g., thresholded stochastic processes) at different engineered constraint densities; measure tick‑rate ratio vs. predicted $1+\\alpha\\,\\Delta\\Phi$.\n",
    "- **Geodesic bending analogue:** programmable constraint landscapes (photonic lattices, Rydberg arrays) to observe path deflection vs. predicted cost metric.\n",
    "- **Astrophysical cross‑check:** map environmental “constraint proxies” (baryon density, radiation fields) to $\\rho_c$; test for systematic lensing or timing deviations."
   ]
  },
  {
   "cell_type": "markdown",
   "metadata": {},
   "source": [
    "## Part D — Summary of Predictive Novelties\n",
    "1. **Finite‑K Born deviations:** $\\mathbb{E}[\\hat p_i(K)] = p_i + a_i/K + O(1/K^2)$; $\\operatorname{Var}[\\hat p_i(K)] \\sim c(p)/(K T)$.  \n",
    "2. **Finite‑K CHSH tightening:** $S_{\\max}(K) \\approx 2\\sqrt{2}\\,(1-\\beta/K)$ for large K.  \n",
    "3. **Constraint‑geometry calibration:** a path to estimate **G** from LFT parameters $(\\alpha,\\kappa,\\lambda)$ via weak‑field matching.\n",
    "\n",
    "These are **distinctive and falsifiable**: standard QM lacks the $1/K$ systematics linked to measurement complexity; GR lacks the constraint‑density mapping and calibration route to **G**.\n",
    "\n",
    "### Artifacts\n",
    "- `/mnt/data/LFT_13_finiteK_born_2out.png`\n",
    "- `/mnt/data/LFT_13_finiteK_born_4out.png`\n",
    "- `/mnt/data/LFT_13_finiteK_CHSH.png`"
   ]
  }
 ],
 "metadata": {
  "kernelspec": {
   "display_name": "Python 3",
   "language": "python",
   "name": "python3"
  },
  "language_info": {
   "name": "python",
   "version": "3.11"
  }
 },
 "nbformat": 4,
 "nbformat_minor": 5
}
