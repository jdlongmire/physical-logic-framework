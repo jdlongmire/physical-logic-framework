{
  "cells": [
    {
      "cell_type": "markdown",
      "metadata": {},
      "source": [
        "# LFT 03 \u2014 Dynamics & Time (N=4\u21925)\n",
        "\n",
        "In Logic Field Theory (LFT), **time** is the directed application of the logical operator \\(L\\) that reduces inconsistency and increases order. This notebook formalizes time as a **Lyapunov descent** on total orders (permutations) and extends it to partial orders:\n",
        "\n",
        "1. Define the **inversion count** \\(h(\\sigma)\\) on \\(S_N\\).\n",
        "2. Prove that **adjacent swaps** that resolve inversions **strictly decrease** \\(h\\).\n",
        "3. Simulate the descent for **N=4** and **N=5** from random and worst-case starts.\n",
        "4. Extend to **partial orders** with a potential \\(\\tilde H\\), verified on a concrete DAG example (N=4)."
      ]
    },
    {
      "cell_type": "markdown",
      "metadata": {},
      "source": [
        "## 1. Inversion count and the bubble-sort lemma\n",
        "\n",
        "**Definition.** For a permutation \\(\\sigma\\in S_N\\), the **inversion count**\n",
        "$$h(\\sigma)=\\#\\{(i,j)\\mid 1\\le i<j\\le N,\\ \\sigma(i) > \\sigma(j)\\}$$\n",
        "is the Kendall\u2013Tau distance to the identity.\n",
        "\n",
        "**Lemma (Bubble-sort step).** If an update performs an **adjacent swap** on indices \\(k,k{+}1\\) **only when** \\(\\sigma(k) > \\sigma(k{+}1)\\), then \\(h\\) decreases by exactly 1.\n",
        "\n",
        "**Proof.** Only the pair \\((k,k{+}1)\\) changes relative order; if it was an inversion, swapping removes it and introduces no new inversions. \u220e"
      ]
    },
    {
      "cell_type": "code",
      "execution_count": null,
      "metadata": {},
      "outputs": [],
      "source": [
        "import numpy as np\n",
        "\n",
        "def inversion_count(perm):\n",
        "    inv = 0\n",
        "    for i in range(len(perm)):\n",
        "        for j in range(i+1, len(perm)):\n",
        "            if perm[i] > perm[j]:\n",
        "                inv += 1\n",
        "    return inv\n",
        "\n",
        "def local_descent_step(perm):\n",
        "    \"\"\"Pick a random adjacent pair; swap if it resolves an inversion.\"\"\"\n",
        "    N = len(perm)\n",
        "    k = np.random.randint(0, N-1)\n",
        "    p = list(perm)\n",
        "    if p[k] > p[k+1]:\n",
        "        p[k], p[k+1] = p[k+1], p[k]\n",
        "    return tuple(p)\n",
        "\n",
        "def simulate_h_flow(N, trials=500, steps=80, start=\"random\", seed=0):\n",
        "    rng = np.random.default_rng(seed)\n",
        "    H = np.zeros((trials, steps+1), dtype=float)\n",
        "    for t in range(trials):\n",
        "        if start == \"random\":\n",
        "            p = list(range(N))\n",
        "            rng.shuffle(p)\n",
        "            p = tuple(p)\n",
        "        elif start == \"worst\":\n",
        "            p = tuple(range(N-1, -1, -1))\n",
        "        else:\n",
        "            raise ValueError(\"start must be 'random' or 'worst'\")\n",
        "        H[t,0] = inversion_count(p)\n",
        "        for s in range(1, steps+1):\n",
        "            # one local step per time unit\n",
        "            p = local_descent_step(p)\n",
        "            H[t,s] = inversion_count(p)\n",
        "    return H\n"
      ]
    },
    {
      "cell_type": "markdown",
      "metadata": {},
      "source": [
        "## 2. Simulations: monotone descent (N=4 and N=5)\n",
        "We run many trials from both **random** starts and the **worst** start (reverse order), then plot the mean and interquartile bands to confirm monotone descent of \\(h(t)\\)."
      ]
    },
    {
      "cell_type": "code",
      "execution_count": null,
      "metadata": {},
      "outputs": [],
      "source": [
        "import matplotlib.pyplot as plt, os\n",
        "os.makedirs('./outputs', exist_ok=True)\n",
        "\n",
        "def plot_h_summary(H, title, outpath):\n",
        "    t = np.arange(H.shape[1])\n",
        "    mean_h = H.mean(axis=0)\n",
        "    q25 = np.quantile(H, 0.25, axis=0)\n",
        "    q75 = np.quantile(H, 0.75, axis=0)\n",
        "    plt.figure()\n",
        "    plt.plot(t, mean_h, label='mean h(t)')\n",
        "    plt.fill_between(t, q25, q75, alpha=0.3, label='25\u201375%')\n",
        "    plt.xlabel('Step')\n",
        "    plt.ylabel('Inversions h(t)')\n",
        "    plt.title(title)\n",
        "    plt.legend()\n",
        "    plt.tight_layout()\n",
        "    plt.savefig(outpath, dpi=150)\n",
        "    plt.close()\n",
        "\n",
        "for N in [4, 5]:\n",
        "    H_rand = simulate_h_flow(N, trials=800, steps=100, start='random', seed=123)\n",
        "    H_worst = simulate_h_flow(N, trials=200, steps=100, start='worst', seed=456)\n",
        "    plot_h_summary(H_rand, f'N={N} local L-flow: random starts', f'./outputs/N{N}_h_flow_random.png')\n",
        "    plot_h_summary(H_worst, f'N={N} local L-flow: worst starts', f'./outputs/N{N}_h_flow_worst.png')\n",
        "print('Saved h(t) plots for N=4 and N=5 into ./outputs')"
      ]
    },
    {
      "cell_type": "markdown",
      "metadata": {},
      "source": [
        "## 3. Partial orders: extending the potential to \\(\\tilde H\\)\n",
        "\n",
        "For a DAG (partial order) \\(P\\), define \\(\\mathcal{L}(P)\\) = set of **linear extensions** (topological sorts). Fix a reference total order (identity). Define\n",
        "$$\\tilde H(P) = \\min_{\\sigma\\in\\mathcal{L}(P)} \\mathrm{KT}(\\sigma, \\mathrm{id}),$$\n",
        "the minimum Kendall\u2013Tau distance to identity over all linear extensions. \\(\\tilde H\\) equals \\(h\\) on total orders.\n",
        "\n",
        "**Proposition (Monotonicity under refinement).** If an update adds a comparability \\(u\\prec v\\) that is consistent (keeps acyclicity), then \\(\\mathcal{L}(P)\\) can only shrink and \\(\\tilde H\\) is **non-increasing**. If all extensions must now resolve an adjacent inversion, \\(\\tilde H\\) strictly decreases."
      ]
    },
    {
      "cell_type": "code",
      "execution_count": null,
      "metadata": {},
      "outputs": [],
      "source": [
        "import networkx as nx\n",
        "from itertools import permutations\n",
        "\n",
        "def kt_distance(order):\n",
        "    # Kendall\u2013Tau distance to identity for a permutation (tuple)\n",
        "    return inversion_count(order)\n",
        "\n",
        "def linear_extensions_min_kt(dag_edges, N):\n",
        "    G = nx.DiGraph()\n",
        "    G.add_nodes_from(range(N))\n",
        "    G.add_edges_from(dag_edges)\n",
        "    assert nx.is_directed_acyclic_graph(G)\n",
        "    best = None\n",
        "    for topo in nx.all_topological_sorts(G):\n",
        "        d = kt_distance(tuple(topo))\n",
        "        if best is None or d < best:\n",
        "            best = d\n",
        "    return best\n",
        "\n",
        "# Concrete N=4 example DAG and its refinement\n",
        "N = 4\n",
        "P_edges = [(0,2), (1,2)]   # 0<2 and 1<2; 3 free\n",
        "# Compute \\tilde H before refinement\n",
        "H_before = linear_extensions_min_kt(P_edges, N)\n",
        "\n",
        "# Add a consistent comparability (2,3)\n",
        "P_refined = P_edges + [(2,3)]\n",
        "H_after = linear_extensions_min_kt(P_refined, N)\n",
        "print({'tildeH_before': H_before, '\\\\tildeH_after': H_after, 'non_increasing?': H_after <= H_before})"
      ]
    },
    {
      "cell_type": "markdown",
      "metadata": {},
      "source": [
        "## 4. Takeaways\n",
        "- On total orders, **time** corresponds to a monotone descent of **\\(h\\)** under local L-steps (adjacent swaps that remove inversions).\n",
        "- On partial orders, the extended potential **\\(\\tilde H\\)** is **non-increasing** under consistent refinements and strictly decreases when an adjacent inversion must be resolved across all linear extensions.\n",
        "- For **N=5**, these properties continue to hold; the geometry lives in \\(V\\cong\\mathbb{R}^4\\) (rank 4), with **time as L-flow** rather than an extra simple root."
      ]
    }
  ],
  "metadata": {
    "kernelspec": {
      "display_name": "Python 3",
      "language": "python",
      "name": "python3"
    },
    "language_info": {
      "name": "python",
      "version": "3.11"
    }
  },
  "nbformat": 4,
  "nbformat_minor": 2
}