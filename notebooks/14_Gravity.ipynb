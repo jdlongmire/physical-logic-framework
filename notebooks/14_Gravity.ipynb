{
 "cells": [
  {
   "cell_type": "markdown",
   "metadata": {},
   "source": [
    "# LFT: Gravity\n",
    "\n",
    "## Objective\n",
    "Develop a proof of concept for **gravity as curvature of the logical geometry** induced by **constraint density**, consistent with the Logic Field Theory (LFT) program:\n",
    "- **Matter/Energy** $\\equiv$ **dense, persistent logical constraints** in the information space.\n",
    "- **Gravity** $\\equiv$ **distortion of L-flow** and **geodesics** in the emergent state geometry, caused by constraint clusters."
   ]
  },
  {
   "cell_type": "markdown",
   "metadata": {},
   "source": [
    "## 1. Discrete State-Space Proxy\n",
    "We use a 2D lattice as a **local chart** of the emergent geometry. Each node is a micro-state; edges represent admissible adjacent transitions of the L-flow.\n",
    "\n",
    "A **constraint mass** centered at $(x_0,y_0)$ induces a scalar potential $\\Phi$, higher near the mass and decaying with distance. L-flow “speed” is reduced by a factor depending on $\\Phi$."
   ]
  },
  {
   "cell_type": "code",
   "execution_count": null,
   "metadata": {},
   "outputs": [],
   "source": [
    "import numpy as np\n",
    "import matplotlib.pyplot as plt\n",
    "\n",
    "nx, ny = 61, 61\n",
    "x = np.linspace(-3, 3, nx)\n",
    "y = np.linspace(-3, 3, ny)\n",
    "X, Y = np.meshgrid(x, y)\n",
    "\n",
    "# Constraint “mass” parameters\n",
    "x0, y0 = 0.0, 0.0\n",
    "alpha = 3.5  # coupling strength of constraints to flow slowdown\n",
    "r2 = (X - x0)**2 + (Y - y0)**2\n",
    "Phi = 1.0 / (1.0 + r2)  # simple decaying potential (bounded, smooth)\n",
    "\n",
    "# L-flow local time-step multiplier: dt_local = 1 + alpha * Phi\n",
    "dt_local = 1.0 + alpha * Phi\n",
    "\n",
    "plt.figure(figsize=(6,5))\n",
    "plt.imshow(Phi, origin='lower', extent=[x.min(), x.max(), y.min(), y.max()])\n",
    "plt.colorbar(label='Constraint potential $\\Phi$')\n",
    "plt.title('Constraint density (proxy potential $\\Phi$)')\n",
    "plt.tight_layout()\n",
    "plt.show()"
   ]
  },
  {
   "cell_type": "markdown",
   "metadata": {},
   "source": [
    "## 2. Time Dilation (Redshift) from L-flow Slowdown\n",
    "A **local clock** advances by one tick per **global step** scaled by the local slowdown factor. If the L-flow is slower near high $\\Phi$, then clocks near the constraint mass tick **fewer** times over the same global step budget—an analogue of **gravitational redshift**."
   ]
  },
  {
   "cell_type": "code",
   "execution_count": null,
   "metadata": {},
   "outputs": [],
   "source": [
    "def simulate_clock_ticks(Phi, alpha=3.5, steps=5000, pos=(0,0)):\n",
    "    i, j = pos\n",
    "    dt = 1.0 + alpha * Phi[j, i]\n",
    "    # Each global step contributes 1/dt local ticks\n",
    "    return steps / dt\n",
    "\n",
    "# Select two positions: near mass and far away\n",
    "near = (nx//2, ny//2)              # center\n",
    "far = (nx//2, ny//2 + 20)          # displaced along y\n",
    "\n",
    "ticks_near = simulate_clock_ticks(Phi, alpha=alpha, steps=10000, pos=near)\n",
    "ticks_far  = simulate_clock_ticks(Phi, alpha=alpha, steps=10000, pos=far)\n",
    "redshift = ticks_far / ticks_near\n",
    "print(ticks_near, ticks_far, redshift)"
   ]
  },
  {
   "cell_type": "code",
   "execution_count": null,
   "metadata": {},
   "outputs": [],
   "source": [
    "# Visualize ticks per location across the grid to show redshift profile\n",
    "Ticks = 10000 / (1.0 + alpha * Phi)\n",
    "plt.figure(figsize=(6,5))\n",
    "plt.imshow(Ticks, origin='lower', extent=[x.min(), x.max(), y.min(), y.max()])\n",
    "plt.colorbar(label='ticks over fixed global steps')\n",
    "plt.title('Time dilation: slower L-flow near constraint mass')\n",
    "plt.tight_layout()\n",
    "plt.show()"
   ]
  },
  {
   "cell_type": "markdown",
   "metadata": {},
   "source": [
    "## 3. Geodesic Bending via Weighted Paths\n",
    "Define edge weights as the **local traversal cost** proportional to the slowdown factor, i.e., $w = 1 + \\alpha\\Phi$. Shortest paths (Dijkstra) then **avoid** high-$\\Phi$ regions, bending around the constraint mass—a discrete analogue of **geodesics in curved spacetime**."
   ]
  },
  {
   "cell_type": "code",
   "execution_count": null,
   "metadata": {},
   "outputs": [],
   "source": [
    "import heapq\n",
    "\n",
    "W = 1.0 + alpha * Phi  # traversal cost field\n",
    "\n",
    "def dijkstra_path(W, start, goal):\n",
    "    ny, nx = W.shape\n",
    "    INF = 1e18\n",
    "    dist = np.full((ny,nx), INF)\n",
    "    prev = np.full((ny,nx,2), -1, dtype=int)\n",
    "    sx, sy = start; gx, gy = goal\n",
    "    dist[sy, sx] = 0.0\n",
    "    pq = [(0.0, sx, sy)]\n",
    "    while pq:\n",
    "        d, x0, y0 = heapq.heappop(pq)\n",
    "        if d>dist[y0,x0]:\n",
    "            continue\n",
    "        if (x0,y0)==(gx,gy):\n",
    "            break\n",
    "        for dx,dy in [(1,0),(-1,0),(0,1),(-1,0)]:\n",
    "            x1, y1 = x0+dx, y0+dy\n",
    "            if 0<=x1<nx and 0<=y1<ny:\n",
    "                nd = d + 0.5*(W[y0,x0] + W[y1,x1])  # midpoint rule cost\n",
    "                if nd < dist[y1,x1]:\n",
    "                    dist[y1,x1]=nd\n",
    "                    prev[y1,x1]=[x0,y0]\n",
    "                    heapq.heappush(pq, (nd, x1, y1))\n",
    "    # reconstruct\n",
    "    path=[]; cur=(gx,gy)\n",
    "    if prev[gy,gx,0]==-1:\n",
    "        return []\n",
    "    while cur!=(sx,sy):\n",
    "        path.append(cur)\n",
    "        px,py = prev[cur[1],cur[0]]\n",
    "        cur=(px,py)\n",
    "    path.append((sx,sy))\n",
    "    path.reverse()\n",
    "    return path, dist[gy,gx]\n",
    "\n",
    "start = (5, ny//2)\n",
    "goal  = (nx-6, ny//2)\n",
    "path, cost = dijkstra_path(W, start, goal)\n",
    "print(len(path), cost)"
   ]
  },
  {
   "cell_type": "code",
   "execution_count": null,
   "metadata": {},
   "outputs": [],
   "source": [
    "# Plot path bending over constraint mass\n",
    "plt.figure(figsize=(6,5))\n",
    "plt.imshow(W, origin='lower', extent=[x.min(), x.max(), y.min(), y.max()])\n",
    "if path:\n",
    "    xs = [x[p[0]] for p in path]\n",
    "    ys = [y[p[1]] for p in path]\n",
    "    plt.plot(xs, ys, linewidth=2)\n",
    "plt.title('Geodesic bending around a constraint cluster (higher traversal cost)')\n",
    "plt.colorbar(label='local traversal cost ~ $1 + \\\\alpha\\\\Phi$')\n",
    "plt.tight_layout()\n",
    "plt.show()"
   ]
  },
  {
   "cell_type": "markdown",
   "metadata": {},
   "source": [
    "## 4. Discussion & Bridge to GR\n",
    "- **Constraint density** changes the effective metric on the state graph: edges in high-$\\Phi$ regions cost more and clocks tick slower $\\rightarrow$ **time dilation** and **geodesic bending** emerge naturally.\n",
    "- In the LFT picture, GR’s field equations should arise as **coarse-grained constraints** relating the distribution of $\\Phi$ (from matter/energy) to an effective metric on the emergent manifold."
   ]
  },
  {
   "cell_type": "markdown",
   "metadata": {},
   "source": [
    "## 5. Deflection Angle vs. Impact Parameter (with GR comparison)\n",
    "We estimate the bending angle by tracing rays with different impact parameters and computing the angle between initial and final tangents. For a weak, spherically symmetric lens, GR predicts\n",
    "$$ \\Delta\\theta_{\\rm GR}(b) \\approx \\frac{4 G M}{c^2 b}. $$\n",
    "Because our $\\Phi$ is defined up to scale, we **fit a single scale factor** so the curves can be compared on shape ($\\propto 1/b$)."
   ]
  },
  {
   "cell_type": "code",
   "execution_count": null,
   "metadata": {},
   "outputs": [],
   "source": [
    "import numpy as np, matplotlib.pyplot as plt\n",
    "from scipy.ndimage import sobel, map_coordinates\n",
    "\n",
    "nx, ny = 161, 161\n",
    "x = np.linspace(-5,5,nx); y = np.linspace(-5,5,ny)\n",
    "X,Y = np.meshgrid(x,y)\n",
    "sigma = 0.5\n",
    "rho_c = np.exp(-((X**2+Y**2)/(2*sigma**2)))\n",
    "rho_c /= rho_c.sum()\n",
    "\n",
    "def solve_poisson_periodic(rhs, Lx, Ly):\n",
    "    ny, nx = rhs.shape\n",
    "    kx = np.fft.fftfreq(nx, d=Lx/nx) * 2*np.pi\n",
    "    ky = np.fft.fftfreq(ny, d=Ly/ny) * 2*np.pi\n",
    "    KX, KY = np.meshgrid(kx, ky); K2 = KX**2 + KY**2\n",
    "    rhs_k = np.fft.fft2(rhs)\n",
    "    Phi_k = np.zeros_like(rhs_k, dtype=complex); mask = K2!=0\n",
    "    Phi_k[mask] = - rhs_k[mask] / K2[mask]\n",
    "    Phi = np.fft.ifft2(Phi_k).real\n",
    "    return Phi\n",
    "\n",
    "Phi = solve_poisson_periodic(rho_c, Lx=x.max()-x.min(), Ly=y.max()-y.min())\n",
    "epsilon = 0.02; gamma_ppn = 1.0\n",
    "n_eff = 1.0 + (1.0+gamma_ppn)*epsilon*Phi\n",
    "gx = sobel(n_eff, axis=1)/(x[1]-x[0])/8.0\n",
    "gy = sobel(n_eff, axis=0)/(y[1]-y[0])/8.0\n",
    "\n",
    "def trace_ray(x0, y0, vx=1.0, vy=0.0, dt=0.01, steps=6000):\n",
    "    xs=[x0]; ys=[y0]; v=np.array([vx,vy], float)\n",
    "    pos=np.array([x0,y0], float)\n",
    "    for _ in range(steps):\n",
    "        ix = (pos[0]-x.min())/(x.max()-x.min())*(nx-1)\n",
    "        iy = (pos[1]-y.min())/(y.max()-y.min())*(ny-1)\n",
    "        if ix<1 or ix>nx-2 or iy<1 or iy>ny-2:\n",
    "            break\n",
    "        gx_val = map_coordinates(gx, [[iy],[ix]], order=1, mode='nearest')[0]\n",
    "        gy_val = map_coordinates(gy, [[iy],[ix]], order=1, mode='nearest')[0]\n",
    "        a = -np.array([gx_val, gy_val])\n",
    "        v = v + a*dt\n",
    "        v = v/np.linalg.norm(v)\n",
    "        pos = pos + v*dt\n",
    "        xs.append(pos[0]); ys.append(pos[1])\n",
    "    return np.array(xs), np.array(ys)\n",
    "\n",
    "def deflection_angle(xs, ys):\n",
    "    if len(xs)<5: return np.nan\n",
    "    v0 = np.array([xs[3]-xs[0], ys[3]-ys[0]])\n",
    "    v1 = np.array([xs[-1]-xs[-4], ys[-1]-ys[-4]])\n",
    "    v0 = v0/np.linalg.norm(v0); v1 = v1/np.linalg.norm(v1)\n",
    "    dot = np.clip(np.dot(v0, v1), -1.0, 1.0)\n",
    "    return np.arccos(dot)\n",
    "\n",
    "impacts = np.linspace(0.5, 2.5, 9)\n",
    "b_vals=[]; th_vals=[]\n",
    "for b in impacts:\n",
    "    xs, ys = trace_ray(x.min()+0.5, b, vx=1.0, vy=0.0, dt=0.01, steps=8000)\n",
    "    th = deflection_angle(xs, ys)\n",
    "    b_vals.append(b); th_vals.append(th)\n",
    "b_vals = np.array(b_vals); th_vals = np.array(th_vals)\n",
    "\n",
    "mask = np.isfinite(th_vals) & (th_vals>0)\n",
    "A_fit = np.sum(th_vals[mask]*b_vals[mask]**-1)/np.sum((b_vals[mask]**-1)**2)\n",
    "theta_gr = A_fit / b_vals\n",
    "\n",
    "plt.figure(figsize=(6,4))\n",
    "plt.plot(b_vals, th_vals, marker='o', label='Simulated $\\\\Delta\\\\theta(b)$')\n",
    "plt.plot(b_vals, theta_gr, marker='x', label='Scaled GR ~ A/b')\n",
    "plt.xlabel('impact parameter b')\n",
    "plt.ylabel('deflection angle $\\\\Delta\\\\theta$ (radians)')\n",
    "plt.title('Deflection vs impact parameter: model vs 1/b law')\n",
    "plt.legend(); plt.tight_layout(); plt.show()"
   ]
  },
  {
   "cell_type": "markdown",
   "metadata": {},
   "source": [
    "## 6. Curvature from the Constraint Field (2D conformal toy)\n",
    "In isotropic (2D) weak-field form, the spatial metric is approximately conformal:\n",
    "$$ g_{ij} \\approx (1 - 2\\gamma\\epsilon\\Phi)\\delta_{ij} = e^{2\\psi}\\delta_{ij}, \\quad \\psi \\approx -\\gamma\\epsilon\\Phi. $$\n",
    "For a 2D conformal metric $ds^2=e^{2\\psi}(dx^2+dy^2)$, the scalar curvature is\n",
    "$$ R = -2e^{-2\\psi}\\nabla^2\\psi \\approx -2\\nabla^2\\psi = 2\\gamma\\epsilon\\nabla^2\\Phi. $$\n",
    "Using the Poisson relation $\\nabla^2\\Phi=\\kappa\\rho_c$, we get\n",
    "$$ R \\approx 2\\gamma\\epsilon\\kappa\\rho_c, $$\n",
    "i.e. **curvature is proportional to constraint density** in this coarse-grained limit. Below we verify this numerically."
   ]
  },
  {
   "cell_type": "code",
   "execution_count": null,
   "metadata": {},
   "outputs": [],
   "source": [
    "from scipy.ndimage import laplace\n",
    "\n",
    "dx = x[1]-x[0]; dy = y[1]-y[0]\n",
    "lap_Phi = (np.roll(Phi,-1,axis=0) + np.roll(Phi,1,axis=0) - 2*Phi)/(dy*dy) \\\n",
    "        + (np.roll(Phi,-1,axis=1) + np.roll(Phi,1,axis=1) - 2*Phi)/(dx*dx)\n",
    "R = 2.0 * gamma_ppn * epsilon * lap_Phi\n",
    "\n",
    "rc = rho_c.ravel(); rr = R.ravel()\n",
    "A = np.vstack([rc, np.ones_like(rc)]).T\n",
    "C_hat, b_hat = np.linalg.lstsq(A, rr, rcond=None)[0]\n",
    "pred = C_hat * rc + b_hat\n",
    "rmse = np.sqrt(np.mean((rr - pred)**2))\n",
    "print(C_hat, b_hat, rmse)"
   ]
  },
  {
   "cell_type": "markdown",
   "metadata": {},
   "source": [
    "The fit verifies the proportionality $R \\approx C\\rho_c + b$ with small residuals ($b$ near zero), supporting the link **constraint density $\\rightarrow$ curvature**."
   ]
  },
  {
   "cell_type": "code",
   "execution_count": null,
   "metadata": {},
   "outputs": [],
   "source": [
    "plt.figure(figsize=(11,4))\n",
    "plt.subplot(1,3,1)\n",
    "plt.imshow(rho_c, origin='lower', extent=[x.min(),x.max(),y.min(),y.max()]); plt.title('$\\rho_c$')\n",
    "plt.colorbar()\n",
    "plt.subplot(1,3,2)\n",
    "plt.imshow(R, origin='lower', extent=[x.min(),x.max(),y.min(),y.max()]); plt.title('R (2D toy)')\n",
    "plt.colorbar()\n",
    "plt.subplot(1,3,3)\n",
    "plt.scatter(rho_c.ravel(), R.ravel(), s=5, alpha=0.3)\n",
    "xs = np.linspace(rho_c.min(), rho_c.max(), 100)\n",
    "plt.plot(xs, C_hat*xs + b_hat, lw=2)\n",
    "plt.xlabel('$\\rho_c$'); plt.ylabel('R'); plt.title('R vs $\\rho_c$ (fit)')\n",
    "plt.tight_layout(); plt.show()"
   ]
  },
  {
   "cell_type": "markdown",
   "metadata": {},
   "source": [
    "## 7. Symbolic Validation\n",
    "We use a symbolic math library to formally show that the weak-field optical metric for a $1/r$-like potential yields a deflection angle that scales as $1/b$."
   ]
  },
  {
   "cell_type": "code",
   "execution_count": null,
   "metadata": {},
   "outputs": [],
   "source": [
    "import sympy as sp\n",
    "b, z, eps, gamma, M = sp.symbols('b z eps gamma M', positive=True)\n",
    "Phi = - M / sp.sqrt(b**2 + z**2)\n",
    "n = 1 + (1+gamma)*eps*Phi\n",
    "dn_db = sp.diff(n, b)\n",
    "Delta_theta = sp.integrate(dn_db, (z, -sp.oo, sp.oo))\n",
    "print(sp.simplify(Delta_theta))"
   ]
  },
  {
   "cell_type": "markdown",
   "metadata": {},
   "source": [
    "The symbolic integral for a $1/r$-like potential yields $\\Delta\\theta \\propto (1+\\gamma)\\epsilon M/b$, i.e. the **$1/b$** law with an explicit parameter dependence, formalizing the chain used in our numerical section."
   ]
  }
 ],
 "metadata": {
  "kernelspec": {
   "display_name": "Python 3",
   "language": "python",
   "name": "python3"
  },
  "language_info": {
   "name": "python",
   "version": "3.11"
  }
 },
 "nbformat": 4,
 "nbformat_minor": 5
}
