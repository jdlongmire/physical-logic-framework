{
  "cells": [
    {
      "cell_type": "markdown",
      "metadata": {},
      "source": [
        "# LFT: From Three Fundamental Laws to $A = L(I)$\n",
        "\n",
        "**Goal.** Make explicit how the Three Fundamental Laws (Identity, Non-Contradiction, Excluded Middle) become a *generative operator* $L$ that filters the information space $I$ into actuality $A$.\n",
        "\n",
        "We keep this notebook **dependency-free** and illustrative. Full-scale implementations (graphs, Cayley structures, permutohedra) appear in Notebooks 01\u201306."
      ]
    },
    {
      "cell_type": "markdown",
      "metadata": {},
      "source": [
        "## 1. Three Fundamental Laws (3FLL)\n",
        "We model patterns as directed relations (ordered pairs) on a finite label set $E=\\{0,\\dots,N-1\\}$. The laws act as constraints:\n",
        "\n",
        "1. **Identity (ID)** \u2014 *Persistence / Reflexivity.*  \n",
        "   Require $(i,i)$ for all $i\\in E$. Intuition: self-identity across updates.\n",
        "\n",
        "2. **Non-Contradiction (NC)** \u2014 *Acyclicity.*  \n",
        "   Forbid directed cycles in the non-reflexive edges. Intuition: no contradictory preference loops.\n",
        "\n",
        "3. **Excluded Middle (EM)** \u2014 *Decisiveness / Totalization when justified.*  \n",
        "   When a relation is globally consistent (acyclic and definable), complete it to a **total order** (linear extension) if sufficient information exists.\n",
        "\n",
        "These laws compose to a logical operator $L$."
      ]
    },
    {
      "cell_type": "markdown",
      "metadata": {},
      "source": [
        "## 2. Operator Composition\n",
        "We define the **logical filter**:\n",
        "\n",
        "$$ L \\,=\\, \\mathrm{EM}\\circ\\mathrm{NC}\\circ\\mathrm{ID}, \\qquad A = L(I). $$\n",
        "\n",
        "- $\\mathrm{ID}$: insert/preserve all reflexive edges.\n",
        "- $\\mathrm{NC}$: reject (map to $\\bot$) any pattern with cycles.\n",
        "- $\\mathrm{EM}$: when feasible, complete to a total order; otherwise leave as a partial order.\n",
        "\n",
        "Later notebooks implement $L$ *locally*, but this global composition captures the essence."
      ]
    },
    {
      "cell_type": "markdown",
      "metadata": {},
      "source": [
        "## 3. Minimal Algorithmic Schema (pure Python)\n",
        "We provide a compact, dependency-free implementation that:\n",
        "\n",
        "1. Adds reflexive edges (ID),\n",
        "2. Checks for cycles (NC),\n",
        "3. Attempts totalization (EM) by topological sorting when the edge set is complete for a total order.\n",
        "\n",
        "> For clarity we separate **partial-order acceptance** from **totalization**; EM only totalizes when the number of non-reflexive edges equals $\\binom{N}{2}$."
      ]
    },
    {
      "cell_type": "code",
      "execution_count": null,
      "metadata": {},
      "outputs": [],
      "source": [
        "from typing import List, Tuple, Optional, Set\n",
        "\n",
        "Edge = Tuple[int,int]\n",
        "\n",
        "def has_cycle(n:int, edges:Set[Edge]) -> bool:\n",
        "    \"\"\"DFS-based cycle detection on directed graph with nodes 0..n-1.\"\"\"\n",
        "    adj = {i:[] for i in range(n)}\n",
        "    for a,b in edges:\n",
        "        if a!=b:\n",
        "            adj[a].append(b)\n",
        "    state = [0]*n  # 0=unseen,1=visiting,2=done\n",
        "    def dfs(u:int) -> bool:\n",
        "        state[u]=1\n",
        "        for v in adj[u]:\n",
        "            if state[v]==1:\n",
        "                return True\n",
        "            if state[v]==0 and dfs(v):\n",
        "                return True\n",
        "        state[u]=2\n",
        "        return False\n",
        "    for i in range(n):\n",
        "        if state[i]==0 and dfs(i):\n",
        "            return True\n",
        "    return False\n",
        "\n",
        "def topo_sort_if_possible(n:int, edges:Set[Edge]) -> Optional[List[int]]:\n",
        "    \"\"\"Return one topological order if DAG, else None.\"\"\"\n",
        "    indeg = [0]*n\n",
        "    adj = {i:[] for i in range(n)}\n",
        "    for a,b in edges:\n",
        "        if a!=b:\n",
        "            adj[a].append(b); indeg[b]+=1\n",
        "    order = []\n",
        "    q = [i for i in range(n) if indeg[i]==0]\n",
        "    while q:\n",
        "        u = q.pop(0)\n",
        "        order.append(u)\n",
        "        for v in adj[u]:\n",
        "            indeg[v]-=1\n",
        "            if indeg[v]==0:\n",
        "                q.append(v)\n",
        "    return order if len(order)==n else None\n",
        "\n",
        "def apply_L(n:int, nonref:List[Edge]):\n",
        "    \"\"\"Apply ID -> NC -> EM. Returns (status, pattern, order).\n",
        "    status in { 'reject', 'partial', 'total' }.\n",
        "    pattern is the reflexive-augmented edge set if accepted; order is a list if total.\n",
        "    \"\"\"\n",
        "    # ID\n",
        "    pattern = set(nonref) | {(i,i) for i in range(n)}\n",
        "    # NC\n",
        "    if has_cycle(n, pattern):\n",
        "        return 'reject', None, None\n",
        "    # EM: decide if we have a complete non-reflexive set for a total order\n",
        "    expected = n*(n-1)//2\n",
        "    nonref_only = {(a,b) for (a,b) in pattern if a!=b}\n",
        "    if len(nonref_only)==expected:\n",
        "        order = topo_sort_if_possible(n, nonref_only)\n",
        "        if order is not None:\n",
        "            return 'total', pattern, order\n",
        "        else:\n",
        "            return 'reject', None, None\n",
        "    return 'partial', pattern, None\n",
        "\n",
        "# Quick sanity examples (N=4)\n",
        "n=4\n",
        "print(apply_L(n, [(0,1),(1,2)]))              # partial\n",
        "print(apply_L(n, [(0,1),(1,2),(2,3),(0,2),(1,3),(0,3)]))  # total\n",
        "print(apply_L(n, [(0,1),(1,0)]))              # reject (cycle)\n"
      ]
    },
    {
      "cell_type": "markdown",
      "metadata": {},
      "source": [
        "## 4. Correctness Intuitions\n",
        "- **ID \u2192 NC:** Reflexivity ensures stable identity; NC removes contradictions (cycles).  \n",
        "- **NC \u2192 EM:** In a DAG on $N$ nodes with $\\binom{N}{2}$ non-reflexive edges, EM checks if the DAG is a **linear order** (one topological order).  \n",
        "- **Outcomes:**\n",
        "  - **reject:** violates NC, or EM fails due to inconsistency.\n",
        "  - **partial:** consistent but not fully decisive.\n",
        "  - **total:** consistent and decisive \u2192 corresponds to a **permutation**.\n"
      ]
    },
    {
      "cell_type": "markdown",
      "metadata": {},
      "source": [
        "## 5. Why this yields permutation geometry (preview)\n",
        "Applying $L$ to all patterns picks out **acyclic totals** which correspond one-to-one with permutations (linear extensions).  \n",
        "Thus $S_N$ and its **$N-1$ adjacent generators** (Coxeter type $A_{N-1}$) appear *inevitably* from the logical program\u2014not as an external ansatz.  \n",
        "\n",
        "Notebook **02_Geometry** formalizes the sum-zero space $V\\cong\\mathbb{R}^{N-1}$ and the **permutohedron** $\\Pi_{N-1}$, showing **rank = $N-1$** as intrinsic dimension."
      ]
    },
    {
      "cell_type": "markdown",
      "metadata": {},
      "source": [
        "## 6. Hand-off to later notebooks\n",
        "- **01_Introduction**: enumeration at small $N$ and filtering statistics (cycles/partials/totals).\n",
        "- **02_Geometry**: $A_{N-1}$ geometry; permutohedra and adjacent-edge Cayley graphs.\n",
        "- **03_Dynamics\\_Time**: inversion count $h$ as Lyapunov; time as $L$-flow.\n",
        "- **04_Quantum\\_Link**: simplex orbits and the qudit bridge.\n",
        "- **05\u201306**: scaling to $N=6$ and spacetime factorization."
      ]
    }
  ],
  "metadata": {
    "kernelspec": {
      "display_name": "Python 3",
      "language": "python",
      "name": "python3"
    },
    "language_info": {
      "name": "python",
      "version": "3.11"
    }
  },
  "nbformat": 4,
  "nbformat_minor": 2
}