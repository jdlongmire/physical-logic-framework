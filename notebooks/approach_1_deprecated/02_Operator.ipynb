{
 "cells": [
  {
   "cell_type": "markdown",
   "metadata": {},
   "source": [
    "# LFT: From Three Fundamental Laws to $A = L(I)$\n",
    "\n",
    "**Goal.** Make explicit how the Three Fundamental Laws (Identity, Non-Contradiction, Excluded Middle) become a *generative operator* $L$ that filters the information space $I$ into actuality $A$.\n",
    "\n",
    "We keep this notebook **dependency-free** and illustrative. Full-scale implementations (graphs, Cayley structures, permutohedra) appear in Notebooks 01–06."
   ]
  },
  {
   "cell_type": "markdown",
   "metadata": {},
   "source": [
    "## 1. Three Fundamental Laws (3FLL)\n",
    "We model patterns as directed relations (ordered pairs) on a finite label set $E=\\{0,\\dots,N-1\\}$. The laws act as constraints:\n",
    "\n",
    "1. **Identity (ID)** — *Persistence / Reflexivity.*  \n",
    "   Require $(i,i)$ for all $i\\in E$. Intuition: self-identity across updates.\n",
    "\n",
    "2. **Non-Contradiction (NC)** — *Acyclicity.*  \n",
    "   Forbid directed cycles in the non-reflexive edges. Intuition: no contradictory preference loops.\n",
    "\n",
    "3. **Excluded Middle (EM)** — *Decisiveness / Totalization when justified.*  \n",
    "   When a relation is globally consistent (acyclic and definable), complete it to a **total order** (linear extension) if sufficient information exists.\n",
    "\n",
    "These laws compose to a logical operator $L$."
   ]
  },
  {
   "cell_type": "markdown",
   "metadata": {},
   "source": [
    "## 2. Operator Composition\n",
    "We define the **logical filter**:\n",
    "\n",
    "$$ L \\,=\\, \\mathrm{EM}\\circ\\mathrm{NC}\\circ\\mathrm{ID}, \\qquad A = L(I). $$\n",
    "\n",
    "- $\\mathrm{ID}$: insert/preserve all reflexive edges.\n",
    "- $\\mathrm{NC}$: reject (map to $\\bot$) any pattern with cycles.\n",
    "- $\\mathrm{EM}$: when feasible, complete to a total order; otherwise leave as a partial order.\n",
    "\n",
    "Later notebooks implement $L$ *locally*, but this global composition captures the essence."
   ]
  },
  {
   "cell_type": "markdown",
   "metadata": {},
   "source": [
    "## 3. Minimal Algorithmic Schema (pure Python)\n",
    "We provide a compact, dependency-free implementation that:\n",
    "\n",
    "1. Adds reflexive edges (ID),\n",
    "2. Checks for cycles (NC),\n",
    "3. Attempts totalization (EM) by topological sorting when the edge set is complete for a total order.\n",
    "\n",
    "> For clarity we separate **partial-order acceptance** from **totalization**; EM only totalizes when the number of non-reflexive edges equals $\\binom{N}{2}$."
   ]
  },
  {
   "cell_type": "code",
   "execution_count": null,
   "metadata": {},
   "outputs": [],
   "source": "from typing import List, Tuple, Optional, Set\nimport os\n\n# Ensure outputs directory exists\nos.makedirs('./outputs', exist_ok=True)\n\nEdge = Tuple[int,int]\n\ndef has_cycle(n:int, edges:Set[Edge]) -> bool:\n    \"\"\"DFS-based cycle detection on directed graph with nodes 0..n-1.\"\"\"\n    adj = {i:[] for i in range(n)}\n    for a,b in edges:\n        if a!=b:\n            adj[a].append(b)\n    state = [0]*n  # 0=unseen,1=visiting,2=done\n    def dfs(u:int) -> bool:\n        state[u]=1\n        for v in adj[u]:\n            if state[v]==1:\n                return True\n            if state[v]==0 and dfs(v):\n                return True\n        state[u]=2\n        return False\n    for i in range(n):\n        if state[i]==0 and dfs(i):\n            return True\n    return False\n\ndef topo_sort_if_possible(n:int, edges:Set[Edge]) -> Optional[List[int]]:\n    \"\"\"Return one topological order if DAG, else None.\"\"\"\n    indeg = [0]*n\n    adj = {i:[] for i in range(n)}\n    for a,b in edges:\n        if a!=b:\n            adj[a].append(b); indeg[b]+=1\n    order = []\n    q = [i for i in range(n) if indeg[i]==0]\n    while q:\n        u = q.pop(0)\n        order.append(u)\n        for v in adj[u]:\n            indeg[v]-=1\n            if indeg[v]==0:\n                q.append(v)\n    return order if len(order)==n else None\n\ndef count_linear_extensions(n:int, edges:Set[Edge], limit:int=10) -> int:\n    \"\"\"Count number of linear extensions (total orders) of a DAG.\"\"\"\n    adj = {i:[] for i in range(n)}\n    indeg = [0]*n\n    for a,b in edges:\n        if a!=b:\n            adj[a].append(b); indeg[b]+=1\n    \n    def backtrack(current_order, remaining_indeg):\n        if len(current_order) == n:\n            return 1\n        count = 0\n        available = [i for i in range(n) if i not in current_order and remaining_indeg[i] == 0]\n        for node in available:\n            if count >= limit:  # Prevent exponential blowup\n                return limit\n            new_indeg = remaining_indeg[:]\n            for neighbor in adj[node]:\n                new_indeg[neighbor] -= 1\n            count += backtrack(current_order + [node], new_indeg)\n        return count\n    \n    return backtrack([], indeg[:])\n\ndef apply_L(n:int, nonref:List[Edge]):\n    \"\"\"Apply ID -> NC -> EM. Returns (status, pattern, order).\n    status in { 'reject', 'partial', 'total' }.\n    pattern is the reflexive-augmented edge set if accepted; order is a list if total.\n    \"\"\"\n    # ID: Add reflexive edges\n    pattern = set(nonref) | {(i,i) for i in range(n)}\n    \n    # NC: Check for cycles\n    if has_cycle(n, pattern):\n        return 'reject', None, None\n    \n    # EM: Enhanced logic - check if unique linear extension exists\n    nonref_only = {(a,b) for (a,b) in pattern if a!=b}\n    \n    # Count linear extensions to determine if EM should totalize\n    num_extensions = count_linear_extensions(n, nonref_only)\n    \n    if num_extensions == 1:\n        # Unique total order exists - EM totalizes\n        order = topo_sort_if_possible(n, nonref_only)\n        return 'total', pattern, order\n    elif num_extensions == 0:\n        # Impossible case (should be caught by NC)\n        return 'reject', None, None\n    else:\n        # Multiple extensions possible - remains partial\n        return 'partial', pattern, None\n\n# Test suite for validation\nprint(\"Testing Logical Operator L Implementation\")\nprint(\"=======================================\")\n\ntest_cases = [\n    # Test 1: Simple partial order\n    (4, [(0,1), (1,2)], 'partial', \"Simple chain - multiple extensions\"),\n    \n    # Test 2: Complete total order  \n    (4, [(0,1), (1,2), (2,3), (0,2), (1,3), (0,3)], 'total', \"Complete total order\"),\n    \n    # Test 3: Cycle rejection\n    (3, [(0,1), (1,2), (2,0)], 'reject', \"Directed cycle\"),\n    \n    # Test 4: Empty relation (all extensions possible)\n    (3, [], 'partial', \"Empty relation - many extensions\"),\n    \n    # Test 5: Single edge\n    (3, [(0,1)], 'partial', \"Single constraint\"),\n]\n\nresults = []\nfor i, (n, edges, expected, description) in enumerate(test_cases):\n    status, pattern, order = apply_L(n, edges)\n    passed = status == expected\n    results.append((i+1, description, status, expected, passed))\n    \n    print(f\"Test {i+1}: {description}\")\n    print(f\"  Input: n={n}, edges={edges}\")\n    print(f\"  Result: {status} (expected: {expected}) {'✓' if passed else '✗'}\")\n    if status == 'total':\n        print(f\"  Total order: {order}\")\n    print()\n\nall_passed = all(r[4] for r in results)\nprint(f\"All tests passed: {all_passed}\")\n\n# Demonstrate the three laws in action\nprint(\"\\nDemonstration of Three Fundamental Laws:\")\nprint(\"======================================\")\n\nn = 4\ndemo_edges = [(0,1), (1,2), (0,2)]\n\n# Step by step application\nprint(f\"Input edges: {demo_edges}\")\n\n# ID: Add reflexive edges\nwith_id = set(demo_edges) | {(i,i) for i in range(n)}\nprint(f\"After ID (add reflexive): {sorted(with_id)}\")\n\n# NC: Check acyclicity  \nis_acyclic = not has_cycle(n, with_id)\nprint(f\"After NC (acyclicity check): {'PASS' if is_acyclic else 'REJECT'}\")\n\nif is_acyclic:\n    # EM: Check for unique extension\n    nonref = {(a,b) for (a,b) in with_id if a!=b}\n    extensions = count_linear_extensions(n, nonref, limit=5)\n    print(f\"After EM (extension count): {extensions} linear extensions\")\n    if extensions == 1:\n        order = topo_sort_if_possible(n, nonref)\n        print(f\"Unique total order: {order}\")\n    else:\n        print(\"Multiple extensions - remains partial order\")"
  },
  {
   "cell_type": "markdown",
   "metadata": {},
   "source": "## 4. Correctness Intuitions and Validation\n\n### Logical Flow Analysis:\n- **ID → NC:** Reflexivity ensures stable identity; NC removes contradictions (cycles)  \n- **NC → EM:** In a DAG, EM checks if exactly one linear extension exists → unique totalization\n- **Enhanced EM Logic:** Unlike the simple \"complete edge set\" check, we now count actual linear extensions\n\n### Outcomes Explained:\n- **reject:** violates NC (cycles), or EM fails due to inconsistency\n- **partial:** consistent but multiple linear extensions possible (EM cannot decide)  \n- **total:** consistent and unique linear extension exists → corresponds to a **permutation**\n\n### Key Insight: \nThe enhanced EM implementation correctly identifies when a partial order has a unique completion, making the operator more precise than simple edge counting.\n\n### Connection to Permutation Geometry:\nEach 'total' output corresponds to a permutation of {0,1,...,n-1}, which will map to vertices of the permutohedron in the geometric realization (notebook 04_Geometry)."
  },
  {
   "cell_type": "markdown",
   "metadata": {},
   "source": [
    "## 5. Why this yields permutation geometry (preview)\n",
    "Applying $L$ to all patterns picks out **acyclic totals** which correspond one-to-one with permutations (linear extensions).  \n",
    "Thus $S_N$ and its **$N-1$ adjacent generators** (Coxeter type $A_{N-1}$) appear *inevitably* from the logical program—not as an external ansatz.  \n",
    "\n",
    "Notebook **02_Geometry** formalizes the sum-zero space $V\\cong\\mathbb{R}^{N-1}$ and the **permutohedron** $\\Pi_{N-1}$, showing **rank = $N-1$** as intrinsic dimension."
   ]
  },
  {
   "cell_type": "markdown",
   "metadata": {},
   "source": [
    "## 6. Hand-off to later notebooks\n",
    "- **01_Introduction**: enumeration at small $N$ and filtering statistics (cycles/partials/totals).\n",
    "- **02_Geometry**: $A_{N-1}$ geometry; permutohedra and adjacent-edge Cayley graphs.\n",
    "- **03_Dynamics\\_Time**: inversion count $h$ as Lyapunov; time as $L$-flow.\n",
    "- **04_Quantum\\_Link**: simplex orbits and the qudit bridge.\n",
    "- **05–06**: scaling to $N=6$ and spacetime factorization."
   ]
  }
 ],
 "metadata": {
  "kernelspec": {
   "display_name": "Python 3",
   "language": "python",
   "name": "python3"
  },
  "language_info": {
   "name": "python",
   "version": "3.11"
  }
 },
 "nbformat": 4,
 "nbformat_minor": 2
}