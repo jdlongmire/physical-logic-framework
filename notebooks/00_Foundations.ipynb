{
 "cells": [
  {
   "cell_type": "markdown",
   "metadata": {},
   "source": [
    "# LFT: Philosophical Foundations & Motivation\n",
    "\n",
    "This notebook captures the conceptual groundwork that precedes the formal math and simulations. It introduces:\n",
    "\n",
    "- The **logic-first stance**: existence as logical coherence.\n",
    "- The equation **$A = L(I)$** as a *generative* thesis (not merely descriptive).\n",
    "- The shift from *possible worlds* to **infinite information space** $I$.\n",
    "- Why **$N-1$** emerges as a target for dimensional analysis.\n",
    "\n",
    "These motivations map onto the later computational notebooks (01–06) that formalize and validate the claims."
   ]
  },
  {
   "cell_type": "markdown",
   "metadata": {},
   "source": [
    "## 1. Why logic first?\n",
    "**Problem:** Physics explains *dynamics* on a given stage, but the **stage itself** (dimensionality, time, constants) is assumed.\n",
    "\n",
    "**Claim:** The stage can be derived if we start from **distinctions** (ordered pairs) and apply a **logical operator** that enforces:\n",
    "\n",
    "- **Identity (ID)** — persistence/coherence,\n",
    "- **Non-Contradiction (NC)** — acyclicity of relations,\n",
    "- **Excluded Middle (EM)** — decisiveness/totalization when warranted.\n",
    "\n",
    "The result is a **logic-first metaphysics** that yields a mathematical program."
   ]
  },
  {
   "cell_type": "markdown",
   "metadata": {},
   "source": [
    "## 2. From possible worlds to infinite information space $I$\n",
    "- LFT replaces *possible worlds* with a richer substrate: **all distinctions**, including contradictory/partial ones.\n",
    "- $I$ is **pre-geometric** and **pre-set-theoretic**. It contains raw patterns from which sets, relations, and logics can be abstracted.\n",
    "- We do not *measure* $I$; we **filter** it. Actuality $A$ is the coherent layer output by $L$."
   ]
  },
  {
   "cell_type": "markdown",
   "metadata": {},
   "source": [
    "## 3. The logical operator $L$\n",
    "We take $L$ to be the composition of constraints:\n",
    "\n",
    "$$ L \\;=\\; \\mathrm{EM}\\circ\\mathrm{NC}\\circ\\mathrm{ID}, \\qquad A = L(I). $$\n",
    "\n",
    "- **ID** inserts/maintains reflexive structure.\n",
    "- **NC** removes contradictions (cycles) in ordering relations.\n",
    "- **EM** completes consistent partial orders to totals when applicable.\n",
    "\n",
    "In later notebooks, $L$ acts locally on finite patterns (graphs of ordered pairs)."
   ]
  },
  {
   "cell_type": "markdown",
   "metadata": {},
   "source": [
    "## 4. Why the $N-1$ problem?\n",
    "Filtering distinctions into **orderings** lands us in the geometry of **permutations**. The symmetric group $S_N$ has **$N-1$ adjacent transposition generators** (Coxeter type $A_{N-1}$). LFT hypothesizes that this **rank = $N-1$** is the intrinsic **spatial dimension** of the logical stage, with **time** emerging as *flow* on that stage."
   ]
  },
  {
   "cell_type": "markdown",
   "metadata": {},
   "source": [
    "## 5. Minimal toy illustration (pure Python)\n",
    "Below we sketch a tiny, dependency-free illustration on $N=3$:\n",
    "\n",
    "1. Generate a few candidate **patterns** of ordered pairs.\n",
    "2. Enforce **ID** (reflexive pairs), **NC** (acyclic), and **EM** (complete to total if possible).\n",
    "3. Count how many **totals** (linear orders) appear.\n",
    "\n",
    "> Note: This is an *illustration*; the full pipeline lives in later notebooks with robust graph algorithms."
   ]
  },
  {
   "cell_type": "code",
   "execution_count": null,
   "metadata": {},
   "outputs": [],
   "source": "# Minimal, dependency-free illustration for N=3\nfrom itertools import combinations\n\ndef has_cycle_directed(n, edges):\n    # DFS cycle detection\n    adj = {i:[] for i in range(n)}\n    for a,b in edges:\n        if a!=b:\n            adj[a].append(b)\n    state = [0]*n  # 0=unseen,1=visiting,2=done\n    def dfs(u):\n        state[u]=1\n        for v in adj[u]:\n            if state[v]==1:\n                return True\n            if state[v]==0 and dfs(v):\n                return True\n        state[u]=2\n        return False\n    for i in range(n):\n        if state[i]==0 and dfs(i):\n            return True\n    return False\n\ndef apply_L_minimal(n, nonref):\n    # ID: add reflexive\n    pattern = set(nonref) | {(i,i) for i in range(n)}\n    # NC: reject if cyclic\n    if has_cycle_directed(n, pattern):\n        return None, None\n    # EM: try to check if total (all pairs present, acyclic)\n    expected = n*(n-1)//2\n    only_nonref = {(a,b) for (a,b) in pattern if a!=b}\n    is_total = len(only_nonref)==expected\n    order = None\n    if is_total:\n        # topological sort (simple O(n^2) approach for n=3)\n        remaining = set(range(n))\n        edges = set(only_nonref)\n        order = []\n        while remaining:\n            mins = [x for x in remaining if all((y,x) not in edges for y in remaining if y!=x)]\n            if not mins:\n                is_total=False; order=None; break\n            order.append(mins[0]); remaining.remove(mins[0])\n        if order is not None and len(order)!=n:\n            is_total=False; order=None\n    return pattern, order\n\nn=3\nelements = list(range(n))\npairs = [(a,b) for a in elements for b in elements if a<b]\n\nsamples = []\nfor r in range(len(pairs)+1):\n    for subset in combinations(pairs, r):\n        samples.append(list(subset))\n\nconsistent, totals = 0, 0\ntotal_orders = []  # Store the actual total orders found\nfor nonref in samples:\n    patt, order = apply_L_minimal(n, nonref)\n    if patt is not None:\n        consistent += 1\n        if order is not None:\n            totals += 1\n            total_orders.append(order)\n\n# Execute and display results\nresult = (len(samples), consistent, totals)\nprint(f\"Results for N={n}:\")\nprint(f\"Total patterns examined: {result[0]}\")\nprint(f\"Logically consistent (pass ID+NC): {result[1]}\")\nprint(f\"Complete total orders (pass ID+NC+EM): {result[2]}\")\nprint(f\"Feasibility ratio ρ_{n} = {totals}/{len(samples)} = {totals/len(samples):.4f}\")\n\n# Validation check\nimport math\nexpected_totals = math.factorial(n)\nassert totals == expected_totals, f\"Expected {expected_totals} totals for N={n}, got {totals}\"\nprint(f\"✓ Validation passed: Found exactly {expected_totals} total orders as expected\")\n\nprint(f\"\\nThe {totals} total orders found:\")\nfor i, order in enumerate(sorted(total_orders)):\n    print(f\"  {i+1}: {order}\")\n\nresult"
  },
  {
   "cell_type": "markdown",
   "metadata": {},
   "source": "**Results interpretation**: For N=3, we examine 2³ = 8 possible patterns of non-reflexive ordered pairs. The logical operator L filters these:\n\n- Many patterns fail **NC** (contain cycles)\n- A minority pass **ID+NC** (consistent partial orders) \n- Exactly **6** patterns pass **ID+NC+EM** (complete total orders)\n\nThis demonstrates the key LFT principle: logical filtering of information space yields the symmetric group S₃ with its 3! = 6 elements.\n\n**Feasibility ratio**: ρ₃ = 6/8 = 0.75 shows that 75% of patterns survive logical filtering for N=3. This ratio decreases dramatically for larger N, leading to the stability crisis at N>4.\n\nThe full enumeration and scaling behavior are analyzed in Notebook **01_Ontology_of_I**."
  },
  {
   "cell_type": "markdown",
   "metadata": {},
   "source": [
    "## 6. Roadmap\n",
    "- **00b:** From ID/NC/EM to the operator $L$ and why this leads to permutation geometry.\n",
    "- **00c:** The N−1 problem in context with success criteria.\n",
    "- **01–06:** Formal geometry, dynamics (time), quantum bridge, scaling (N=6), spacetime factorization.\n",
    "- **Figure_Bundle:** Collects and standardizes all figures for the manuscript.\n"
   ]
  },
  {
   "cell_type": "markdown",
   "metadata": {},
   "source": "# Why a *Field* Theory?\n\nIn physics, a **field** is any quantity that assigns a value to each point of a space. Logic Field Theory (LFT) constructs two such fields on its emergent geometries:\n\n## 1. The *Order* Field $h(\\sigma)$\n- **Space:** the permutohedron, whose nodes are total orders $\\sigma$.\n- **Value:** the inversion count $h(\\sigma)$, a scalar.\n- **Dynamics:** time = “L-flow,” defined as descent along the gradient of $h$.\n- **Analogy:** identical to a system rolling downhill in a scalar potential field.\n\n## 2. The *Constraint* Field $\\Phi$\n- **Space:** emergent spacetime geometry (from LFT_06 onward).\n- **Value:** constraint density, representing localized matter/energy.\n- **Dynamics:**\n  - sets local clock rates (time dilation),\n  - warps geodesics (bending paths),\n  - obeys a field-like equation ($\\nabla^2\\Phi = \\kappa\\rho_c$) analogous to Poisson’s law for gravity.\n- **Analogy:** functionally identical to the gravitational field in GR.\n\n## 3. Unified Dynamics\n- Both fields arise from a single logical substrate $I$.\n- Both govern system evolution: $h(\\sigma)$ drives **temporal ordering**, $\\Phi$ drives **spacetime curvature**.\n- Together, they justify calling this framework a **Field Theory** in the full physics sense.\n"
  }
 ],
 "metadata": {
  "kernelspec": {
   "display_name": "Python 3",
   "language": "python",
   "name": "python3"
  },
  "language_info": {
   "name": "python",
   "version": "3.11"
  }
 },
 "nbformat": 4,
 "nbformat_minor": 2
}